{
 "cells": [
  {
   "cell_type": "code",
   "execution_count": 1,
   "id": "141b3e6c",
   "metadata": {},
   "outputs": [],
   "source": [
    "from sklearn.neighbors import KNeighborsClassifier\n",
    "from sklearn.model_selection import KFold\n",
    "from sklearn.model_selection import cross_val_score\n",
    "from sklearn.model_selection import GridSearchCV\n",
    "from sklearn.metrics import accuracy_score\n",
    "import torch\n",
    "import numpy as np"
   ]
  },
  {
   "cell_type": "markdown",
   "id": "eb88d5a2",
   "metadata": {},
   "source": [
    "https://machinelearningknowledge.ai/knn-classifier-in-sklearn-using-gridsearchcv-with-example/ <br>\n",
    "https://towardsdatascience.com/building-a-k-nearest-neighbors-k-nn-model-with-scikit-learn-51209555453a"
   ]
  },
  {
   "cell_type": "markdown",
   "id": "b460a371",
   "metadata": {},
   "source": [
    "## Get the data and labels"
   ]
  },
  {
   "cell_type": "markdown",
   "id": "688cfc78",
   "metadata": {},
   "source": [
    "### Real data"
   ]
  },
  {
   "cell_type": "code",
   "execution_count": 2,
   "id": "acb34c3c",
   "metadata": {},
   "outputs": [],
   "source": [
    "num_testsub = 32\n",
    "num_classes = 4\n",
    "num_channel = 40\n",
    "num_datapoints = 8064\n",
    "num_trials = 40\n",
    "sampling_rate = 128 # 128Hz as given in the data\n",
    "\n",
    "def loadfiles_normalized():\n",
    "    data_dict = {}\n",
    "    print(\"Loading files into data_dict .................\")\n",
    "    for i in range(num_testsub):\n",
    "                    if i < 10:\n",
    "                        name = '%0*d' % (2,i+1)\n",
    "                    else:\n",
    "                        name = i+1\n",
    "                    fname = 'data/data_prepared/data_norm_bhat/noramlized_datasub'+str(name) +'.npy'\n",
    "                    data_dict[\"sub%s\" %name] = np.load(fname)    \n",
    "    print(\"Loaded!!!!!\") \n",
    "    return data_dict"
   ]
  },
  {
   "cell_type": "code",
   "execution_count": 3,
   "id": "b39b574f",
   "metadata": {},
   "outputs": [
    {
     "name": "stdout",
     "output_type": "stream",
     "text": [
      "Loading files into data_dict .................\n",
      "Loaded!!!!!\n"
     ]
    }
   ],
   "source": [
    "data_dict = loadfiles_normalized()"
   ]
  },
  {
   "cell_type": "code",
   "execution_count": 4,
   "id": "0aab993d",
   "metadata": {},
   "outputs": [],
   "source": [
    "valence = np.load('data/data_prepared/labels/label_class_0.npy')\n",
    "arousal = np.load('data/data_prepared/labels/label_class_1.npy')\n",
    "dominance = np.load('data/data_prepared/labels/label_class_2.npy')\n",
    "liking = np.load('data/data_prepared/labels/label_class_3.npy')"
   ]
  },
  {
   "cell_type": "code",
   "execution_count": 5,
   "id": "17ddcde9",
   "metadata": {},
   "outputs": [
    {
     "data": {
      "text/plain": [
       "(1280,)"
      ]
     },
     "execution_count": 5,
     "metadata": {},
     "output_type": "execute_result"
    }
   ],
   "source": [
    "valence.shape"
   ]
  },
  {
   "cell_type": "code",
   "execution_count": 6,
   "id": "136bee5d",
   "metadata": {},
   "outputs": [
    {
     "data": {
      "text/plain": [
       "(40, 40, 99)"
      ]
     },
     "execution_count": 6,
     "metadata": {},
     "output_type": "execute_result"
    }
   ],
   "source": [
    "data_dict['sub01'].shape"
   ]
  },
  {
   "cell_type": "markdown",
   "id": "db411880",
   "metadata": {},
   "source": [
    "### Create train test split"
   ]
  },
  {
   "cell_type": "markdown",
   "id": "f7f95fba",
   "metadata": {},
   "source": [
    "### Real Data"
   ]
  },
  {
   "cell_type": "code",
   "execution_count": 7,
   "id": "edfa3379",
   "metadata": {},
   "outputs": [],
   "source": [
    "# training with 22 participants each has 40 videos = 880\n",
    "train_R = np.zeros((0,40,99))\n",
    "train_R[:] = np.nan\n",
    "#train1 = \n",
    "test_R = np.zeros((0,40,99))\n",
    "test_R[:] = np.nan\n",
    "\n",
    "participation_counter = 0\n",
    "for sub in data_dict.keys():\n",
    "    if participation_counter < 22:\n",
    "        train_R = np.concatenate((train_R, data_dict[sub]), axis=0)\n",
    "    else:\n",
    "        test_R = np.concatenate((test_R, data_dict[sub]), axis=0)\n",
    "    participation_counter = participation_counter + 1"
   ]
  },
  {
   "cell_type": "code",
   "execution_count": 8,
   "id": "a39466e3",
   "metadata": {},
   "outputs": [],
   "source": [
    "# training with 22 participants each has 40 videos = 880\n",
    "data = np.zeros((0,40,99))\n",
    "data[:] = np.nan\n",
    "\n",
    "for sub in data_dict.keys():\n",
    "    data = np.concatenate((data, data_dict[sub]), axis=0)"
   ]
  },
  {
   "cell_type": "code",
   "execution_count": 9,
   "id": "42996757",
   "metadata": {},
   "outputs": [
    {
     "data": {
      "text/plain": [
       "(1280, 40, 99)"
      ]
     },
     "execution_count": 9,
     "metadata": {},
     "output_type": "execute_result"
    }
   ],
   "source": [
    "data.shape"
   ]
  },
  {
   "cell_type": "code",
   "execution_count": 10,
   "id": "66655b7f",
   "metadata": {},
   "outputs": [
    {
     "data": {
      "text/plain": [
       "(880, 40, 99)"
      ]
     },
     "execution_count": 10,
     "metadata": {},
     "output_type": "execute_result"
    }
   ],
   "source": [
    "train_R.shape"
   ]
  },
  {
   "cell_type": "code",
   "execution_count": 11,
   "id": "a08fcf15",
   "metadata": {},
   "outputs": [
    {
     "data": {
      "text/plain": [
       "(400, 40, 99)"
      ]
     },
     "execution_count": 11,
     "metadata": {},
     "output_type": "execute_result"
    }
   ],
   "source": [
    "test_R.shape"
   ]
  },
  {
   "cell_type": "markdown",
   "id": "44fa79e5",
   "metadata": {},
   "source": [
    "### Synthetic Data"
   ]
  },
  {
   "cell_type": "code",
   "execution_count": 12,
   "id": "e519b776",
   "metadata": {},
   "outputs": [],
   "source": [
    "arrays = []\n",
    "for i in range(10):\n",
    "    arrays.append(torch.load(\"data/sampled/0x/1_sample/sampled_01_128_\"+str(i),map_location=torch.device('cpu')))\n",
    "generated_data = np.concatenate(arrays, axis=0)"
   ]
  },
  {
   "cell_type": "code",
   "execution_count": 13,
   "id": "ad099ec2",
   "metadata": {},
   "outputs": [],
   "source": [
    "data_S = np.zeros((1280,40,99))\n",
    "data_S[:] = np.nan\n",
    "\n",
    "for i in range(1280):\n",
    "    data_S[i] = generated_data[i][0][:,:99] "
   ]
  },
  {
   "cell_type": "code",
   "execution_count": 14,
   "id": "371d67cc",
   "metadata": {},
   "outputs": [
    {
     "data": {
      "text/plain": [
       "(1280, 40, 99)"
      ]
     },
     "execution_count": 14,
     "metadata": {},
     "output_type": "execute_result"
    }
   ],
   "source": [
    "data_S.shape"
   ]
  },
  {
   "cell_type": "code",
   "execution_count": 15,
   "id": "e34451b7",
   "metadata": {},
   "outputs": [],
   "source": [
    "train_S = data_S[:880]\n",
    "test_S = data_S[880:]"
   ]
  },
  {
   "cell_type": "code",
   "execution_count": 16,
   "id": "ec28fbca",
   "metadata": {},
   "outputs": [
    {
     "data": {
      "text/plain": [
       "(880, 40, 99)"
      ]
     },
     "execution_count": 16,
     "metadata": {},
     "output_type": "execute_result"
    }
   ],
   "source": [
    "train_S.shape"
   ]
  },
  {
   "cell_type": "code",
   "execution_count": 17,
   "id": "0b8e56e5",
   "metadata": {},
   "outputs": [
    {
     "data": {
      "text/plain": [
       "(400, 40, 99)"
      ]
     },
     "execution_count": 17,
     "metadata": {},
     "output_type": "execute_result"
    }
   ],
   "source": [
    "test_S.shape"
   ]
  },
  {
   "cell_type": "markdown",
   "id": "023ef558",
   "metadata": {},
   "source": [
    "### Labels"
   ]
  },
  {
   "cell_type": "code",
   "execution_count": 18,
   "id": "9869b7bc",
   "metadata": {},
   "outputs": [],
   "source": [
    "val32 = valence[:]\n",
    "aro32 = arousal[:]\n",
    "dom32 = dominance[:]\n",
    "lik32 = liking[:]\n",
    "\n",
    "val22 = valence[: 880]\n",
    "aro22 = arousal[: 880]\n",
    "dom22 = dominance[: 880]\n",
    "lik22 = liking[: 880]\n",
    "\n",
    "val10 = valence[880: ]\n",
    "aro10 = arousal[880: ]\n",
    "dom10 = dominance[880: ]\n",
    "lik10 = liking[880: ]"
   ]
  },
  {
   "cell_type": "code",
   "execution_count": 19,
   "id": "33509aaf",
   "metadata": {},
   "outputs": [
    {
     "data": {
      "text/plain": [
       "(1280,)"
      ]
     },
     "execution_count": 19,
     "metadata": {},
     "output_type": "execute_result"
    }
   ],
   "source": [
    "val32.shape"
   ]
  },
  {
   "cell_type": "code",
   "execution_count": 20,
   "id": "e7e829d6",
   "metadata": {},
   "outputs": [
    {
     "data": {
      "text/plain": [
       "(880,)"
      ]
     },
     "execution_count": 20,
     "metadata": {},
     "output_type": "execute_result"
    }
   ],
   "source": [
    "val22.shape"
   ]
  },
  {
   "cell_type": "code",
   "execution_count": 21,
   "id": "f2835857",
   "metadata": {},
   "outputs": [
    {
     "data": {
      "text/plain": [
       "(400,)"
      ]
     },
     "execution_count": 21,
     "metadata": {},
     "output_type": "execute_result"
    }
   ],
   "source": [
    "val10.shape"
   ]
  },
  {
   "cell_type": "markdown",
   "id": "ee76608f",
   "metadata": {},
   "source": [
    "----------"
   ]
  },
  {
   "cell_type": "markdown",
   "id": "8a2b0c6f",
   "metadata": {},
   "source": [
    "The cell below is deprecated and can be ignored"
   ]
  },
  {
   "cell_type": "code",
   "execution_count": 56,
   "id": "50e74357",
   "metadata": {},
   "outputs": [
    {
     "name": "stdout",
     "output_type": "stream",
     "text": [
      "######################################### Valence #########################################\n",
      "cv_scores mean:0.5170454545454545\n",
      "######################################### Arousal #########################################\n",
      "cv_scores mean:0.36363636363636365\n",
      "######################################### Dominance #########################################\n",
      "cv_scores mean:0.43863636363636366\n",
      "######################################### Liking #########################################\n",
      "cv_scores mean:0.5579545454545455\n"
     ]
    }
   ],
   "source": [
    "trainlabel_list = [val22, aro22, dom22, lik22]\n",
    "testlabel_list = [val10, aro10, dom10, lik10]\n",
    "names = [\"Valence\",\"Arousal\",\"Dominance\",\"Liking\"]\n",
    "\n",
    "for traain,tesst,name in zip(trainlabel_list,testlabel_list,names):\n",
    "    print(\"#########################################\",name,\"#########################################\")\n",
    "    #sc = knnmodel2(train.reshape(-1, 40*99),traain,test.reshape(-1, 40*99),tesst,kval = k)\n",
    "\n",
    "    #define cross-validation method to use\n",
    "    cv = KFold(n_splits=32, random_state=1, shuffle=True)\n",
    "\n",
    "    #build multiple linear regression model\n",
    "    model = KNeighborsClassifier(n_neighbors=20)\n",
    "\n",
    "    #use k-fold CV to evaluate model\n",
    "    scores = cross_val_score(model, train_R.reshape(-1, 40*99), traain, cv=5)\n",
    "\n",
    "    #print each cv score (accuracy) and average them\n",
    "    #print(cv_scores)\n",
    "    print(\"cv_scores mean:{}\".format(np.mean(scores)))\n",
    "\n",
    "    #print(\"test score:{}\".format(model.score(test.reshape(-1, 40*99),tesst)))"
   ]
  },
  {
   "cell_type": "markdown",
   "id": "eb776133",
   "metadata": {},
   "source": [
    "-------"
   ]
  },
  {
   "cell_type": "markdown",
   "id": "6194c845",
   "metadata": {},
   "source": [
    "## 1) Train with real data and test with real data"
   ]
  },
  {
   "cell_type": "code",
   "execution_count": 22,
   "id": "10f8a3ad",
   "metadata": {
    "scrolled": false
   },
   "outputs": [
    {
     "name": "stdout",
     "output_type": "stream",
     "text": [
      "######################################### Valence #########################################\n",
      "Fitting 32 folds for each of 49 candidates, totalling 1568 fits\n",
      "Average  0.4967757936507936\n",
      "best param  {'n_neighbors': 11}\n",
      "######################################### Arousal #########################################\n",
      "Fitting 32 folds for each of 49 candidates, totalling 1568 fits\n",
      "Average  0.5082671957671958\n",
      "best param  {'n_neighbors': 49}\n",
      "######################################### Dominance #########################################\n",
      "Fitting 32 folds for each of 49 candidates, totalling 1568 fits\n",
      "Average  0.4833829365079365\n",
      "best param  {'n_neighbors': 49}\n",
      "######################################### Liking #########################################\n",
      "Fitting 32 folds for each of 49 candidates, totalling 1568 fits\n",
      "Average  0.6567046957671958\n",
      "best param  {'n_neighbors': 49}\n"
     ]
    }
   ],
   "source": [
    "trainlabel_list = [val22, aro22, dom22, lik22]\n",
    "testlabel_list = [val10, aro10, dom10, lik10]\n",
    "names = [\"Valence\",\"Arousal\",\"Dominance\",\"Liking\"]\n",
    "\n",
    "knn = KNeighborsClassifier()\n",
    "param_grid = {\"n_neighbors\": np.arange(1, 50)}\n",
    "\n",
    "for traain,name in zip(trainlabel_list,names):\n",
    "    print(\"#########################################\",name,\"#########################################\")\n",
    "    \n",
    "    # defining parameter range\n",
    "    grid = GridSearchCV(knn, param_grid, cv=32, scoring='accuracy', return_train_score=False,verbose=1)\n",
    "\n",
    "    # fitting the model for grid search\n",
    "    grid_search=grid.fit(train_R.reshape(-1, 40*99), traain)\n",
    "    print(\"Average \",grid_search.best_score_)\n",
    "    print(\"best param \",grid_search.best_params_)"
   ]
  },
  {
   "cell_type": "code",
   "execution_count": 23,
   "id": "31616a56",
   "metadata": {},
   "outputs": [
    {
     "name": "stdout",
     "output_type": "stream",
     "text": [
      "######################################### Valence #########################################\n",
      "Accuracy for our testing dataset with tuning is : 49.00%\n",
      "######################################### Arousal #########################################\n",
      "Accuracy for our testing dataset with tuning is : 51.75%\n",
      "######################################### Dominance #########################################\n",
      "Accuracy for our testing dataset with tuning is : 57.25%\n",
      "######################################### Liking #########################################\n",
      "Accuracy for our testing dataset with tuning is : 63.00%\n"
     ]
    }
   ],
   "source": [
    "n = [11,49,49,49]\n",
    "for traain,tesst,name,kn in zip(trainlabel_list,testlabel_list,names,n):\n",
    "    print(\"#########################################\",name,\"#########################################\")\n",
    "    \n",
    "    knn = KNeighborsClassifier(n_neighbors=kn)\n",
    "    knn.fit(train_R.reshape(-1, 40*99), traain)\n",
    "    y_test_hat=knn.predict(test_R.reshape(-1, 40*99)) \n",
    "    test_accuracy=accuracy_score(tesst,y_test_hat)*100\n",
    "    \n",
    "    print(\"Accuracy for our testing dataset with tuning is : {:.2f}%\".format(test_accuracy) )"
   ]
  },
  {
   "cell_type": "markdown",
   "id": "f0f1add2",
   "metadata": {},
   "source": [
    "## 2) Train with real data and test with synthetic data"
   ]
  },
  {
   "cell_type": "code",
   "execution_count": 24,
   "id": "a6e7c1ae",
   "metadata": {},
   "outputs": [
    {
     "name": "stdout",
     "output_type": "stream",
     "text": [
      "######################################### Valence #########################################\n",
      "Accuracy for our testing dataset with tuning is : 51.00%\n",
      "######################################### Arousal #########################################\n",
      "Accuracy for our testing dataset with tuning is : 54.00%\n",
      "######################################### Dominance #########################################\n",
      "Accuracy for our testing dataset with tuning is : 44.75%\n",
      "######################################### Liking #########################################\n",
      "Accuracy for our testing dataset with tuning is : 62.25%\n"
     ]
    }
   ],
   "source": [
    "n = [11,49,49,49]\n",
    "for traain,tesst,name,kn in zip(trainlabel_list,testlabel_list,names,n):\n",
    "    print(\"#########################################\",name,\"#########################################\")\n",
    "    \n",
    "    knn = KNeighborsClassifier(n_neighbors=kn)\n",
    "    knn.fit(train_R.reshape(-1, 40*99), traain)\n",
    "    y_test_hat=knn.predict(test_S.reshape(-1, 40*99)) \n",
    "    test_accuracy=accuracy_score(tesst,y_test_hat)*100\n",
    "    \n",
    "    print(\"Accuracy for our testing dataset with tuning is : {:.2f}%\".format(test_accuracy) )"
   ]
  },
  {
   "cell_type": "markdown",
   "id": "64332eaa",
   "metadata": {},
   "source": [
    "## 3) Train with synthetic data and test with real data"
   ]
  },
  {
   "cell_type": "code",
   "execution_count": 25,
   "id": "2ca69921",
   "metadata": {},
   "outputs": [
    {
     "name": "stdout",
     "output_type": "stream",
     "text": [
      "######################################### Valence #########################################\n",
      "Fitting 32 folds for each of 49 candidates, totalling 1568 fits\n",
      "Average  0.5329861111111112\n",
      "best param  {'n_neighbors': 49}\n",
      "######################################### Arousal #########################################\n",
      "Fitting 32 folds for each of 49 candidates, totalling 1568 fits\n",
      "Average  0.5590691137566137\n",
      "best param  {'n_neighbors': 49}\n",
      "######################################### Dominance #########################################\n",
      "Fitting 32 folds for each of 49 candidates, totalling 1568 fits\n",
      "Average  0.5204199735449735\n",
      "best param  {'n_neighbors': 7}\n",
      "######################################### Liking #########################################\n",
      "Fitting 32 folds for each of 49 candidates, totalling 1568 fits\n",
      "Average  0.6830357142857142\n",
      "best param  {'n_neighbors': 43}\n"
     ]
    }
   ],
   "source": [
    "trainlabel_list = [val22, aro22, dom22, lik22]\n",
    "testlabel_list = [val10, aro10, dom10, lik10]\n",
    "names = [\"Valence\",\"Arousal\",\"Dominance\",\"Liking\"]\n",
    "\n",
    "knn = KNeighborsClassifier()\n",
    "param_grid = {\"n_neighbors\": np.arange(1, 50)}\n",
    "\n",
    "for traain,name in zip(trainlabel_list,names):\n",
    "    print(\"#########################################\",name,\"#########################################\")\n",
    "    \n",
    "    # defining parameter range\n",
    "    grid = GridSearchCV(knn, param_grid, cv=32, scoring='accuracy', return_train_score=False,verbose=1)\n",
    "\n",
    "    # fitting the model for grid search\n",
    "    grid_search=grid.fit(train_S.reshape(-1, 40*99), traain)\n",
    "    print(\"Average \",grid_search.best_score_)\n",
    "    print(\"best param \",grid_search.best_params_)"
   ]
  },
  {
   "cell_type": "code",
   "execution_count": 26,
   "id": "569996c8",
   "metadata": {},
   "outputs": [
    {
     "name": "stdout",
     "output_type": "stream",
     "text": [
      "######################################### Valence #########################################\n",
      "Accuracy for our testing dataset with tuning is : 53.25%\n",
      "######################################### Arousal #########################################\n",
      "Accuracy for our testing dataset with tuning is : 51.75%\n",
      "######################################### Dominance #########################################\n",
      "Accuracy for our testing dataset with tuning is : 58.75%\n",
      "######################################### Liking #########################################\n",
      "Accuracy for our testing dataset with tuning is : 61.50%\n"
     ]
    }
   ],
   "source": [
    "n = [49,49,7,43]\n",
    "for traain,tesst,name,kn in zip(trainlabel_list,testlabel_list,names,n):\n",
    "    print(\"#########################################\",name,\"#########################################\")\n",
    "    \n",
    "    knn = KNeighborsClassifier(n_neighbors=kn)\n",
    "    knn.fit(train_R.reshape(-1, 40*99), traain)\n",
    "    y_test_hat=knn.predict(test_R.reshape(-1, 40*99)) \n",
    "    test_accuracy=accuracy_score(tesst,y_test_hat)*100\n",
    "    \n",
    "    print(\"Accuracy for our testing dataset with tuning is : {:.2f}%\".format(test_accuracy) )"
   ]
  },
  {
   "cell_type": "markdown",
   "id": "5c20b813",
   "metadata": {},
   "source": [
    "## 4) Train with synthetic data and test with synthetic data"
   ]
  },
  {
   "cell_type": "code",
   "execution_count": 27,
   "id": "f6c68f2b",
   "metadata": {},
   "outputs": [
    {
     "name": "stdout",
     "output_type": "stream",
     "text": [
      "######################################### Valence #########################################\n",
      "Accuracy for our testing dataset with tuning is : 51.00%\n",
      "######################################### Arousal #########################################\n",
      "Accuracy for our testing dataset with tuning is : 54.00%\n",
      "######################################### Dominance #########################################\n",
      "Accuracy for our testing dataset with tuning is : 44.75%\n",
      "######################################### Liking #########################################\n",
      "Accuracy for our testing dataset with tuning is : 62.25%\n"
     ]
    }
   ],
   "source": [
    "n = [11,49,49,49]\n",
    "for traain,tesst,name,kn in zip(trainlabel_list,testlabel_list,names,n):\n",
    "    print(\"#########################################\",name,\"#########################################\")\n",
    "    \n",
    "    knn = KNeighborsClassifier(n_neighbors=kn)\n",
    "    knn.fit(train_R.reshape(-1, 40*99), traain)\n",
    "    y_test_hat=knn.predict(test_S.reshape(-1, 40*99)) \n",
    "    test_accuracy=accuracy_score(tesst,y_test_hat)*100\n",
    "    \n",
    "    print(\"Accuracy for our testing dataset with tuning is : {:.2f}%\".format(test_accuracy) )"
   ]
  },
  {
   "cell_type": "code",
   "execution_count": null,
   "id": "d44f4a51",
   "metadata": {},
   "outputs": [],
   "source": []
  }
 ],
 "metadata": {
  "kernelspec": {
   "display_name": "Python 3 (ipykernel)",
   "language": "python",
   "name": "python3"
  },
  "language_info": {
   "codemirror_mode": {
    "name": "ipython",
    "version": 3
   },
   "file_extension": ".py",
   "mimetype": "text/x-python",
   "name": "python",
   "nbconvert_exporter": "python",
   "pygments_lexer": "ipython3",
   "version": "3.10.9"
  }
 },
 "nbformat": 4,
 "nbformat_minor": 5
}
