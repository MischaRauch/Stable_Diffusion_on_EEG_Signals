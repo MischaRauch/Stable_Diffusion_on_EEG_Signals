{
 "cells": [
  {
   "cell_type": "code",
   "execution_count": 7,
   "id": "2de3d51e",
   "metadata": {},
   "outputs": [],
   "source": [
    "import numpy as np\n",
    "from sklearn.metrics import confusion_matrix\n",
    "from sklearn.metrics import accuracy_score\n",
    "from sklearn.neighbors import KNeighborsClassifier\n",
    "from sklearn.metrics import classification_report,confusion_matrix,roc_auc_score\n"
   ]
  },
  {
   "cell_type": "markdown",
   "id": "18e1a9e5",
   "metadata": {},
   "source": [
    "## Get the Data and Labels"
   ]
  },
  {
   "cell_type": "code",
   "execution_count": 2,
   "id": "cd294699",
   "metadata": {},
   "outputs": [],
   "source": [
    "num_testsub = 32\n",
    "num_classes = 4\n",
    "num_channel = 40\n",
    "num_datapoints = 8064\n",
    "num_trials = 40\n",
    "sampling_rate = 128 # 128Hz as given in the data\n",
    "\n",
    "def loadfiles_normalized():\n",
    "    data_dict = {}\n",
    "    print(\"Loading files into data_dict .................\")\n",
    "    for i in range(num_testsub):\n",
    "                    if i < 10:\n",
    "                        name = '%0*d' % (2,i+1)\n",
    "                    else:\n",
    "                        name = i+1\n",
    "                    fname = 'data/data_prepared/data_norm_mischa/noramlized_datasub'+str(name) +'.npy'\n",
    "                    data_dict[\"sub%s\" %name] = np.load(fname)    \n",
    "    print(\"Loaded!!!!!\") \n",
    "    return data_dict"
   ]
  },
  {
   "cell_type": "code",
   "execution_count": 8,
   "id": "7c6ef58c",
   "metadata": {},
   "outputs": [
    {
     "name": "stdout",
     "output_type": "stream",
     "text": [
      "Loading files into data_dict .................\n",
      "Loaded!!!!!\n"
     ]
    }
   ],
   "source": [
    "data_dict = loadfiles_normalized()"
   ]
  },
  {
   "cell_type": "code",
   "execution_count": 3,
   "id": "5fb0a4da",
   "metadata": {},
   "outputs": [],
   "source": [
    "valence = np.load('data/data_prepared/labels/label_class_0.npy')\n",
    "arousal = np.load('data/data_prepared/labels/label_class_1.npy')\n",
    "dominance = np.load('data/data_prepared/labels/label_class_2.npy')\n",
    "liking = np.load('data/data_prepared/labels/label_class_3.npy')"
   ]
  },
  {
   "cell_type": "code",
   "execution_count": 4,
   "id": "d7ce49b8",
   "metadata": {},
   "outputs": [
    {
     "data": {
      "text/plain": [
       "(1280,)"
      ]
     },
     "execution_count": 4,
     "metadata": {},
     "output_type": "execute_result"
    }
   ],
   "source": [
    "valence.shape"
   ]
  },
  {
   "cell_type": "code",
   "execution_count": 11,
   "id": "2e4ff9fa",
   "metadata": {},
   "outputs": [
    {
     "data": {
      "text/plain": [
       "(240, 40, 9)"
      ]
     },
     "execution_count": 11,
     "metadata": {},
     "output_type": "execute_result"
    }
   ],
   "source": [
    "data_dict['sub01'].shape"
   ]
  },
  {
   "cell_type": "code",
   "execution_count": 22,
   "id": "32f7a0b5",
   "metadata": {},
   "outputs": [],
   "source": [
    "sub01 = data_dict['sub01'][0:6]"
   ]
  },
  {
   "cell_type": "code",
   "execution_count": 25,
   "id": "5fffe1a4",
   "metadata": {},
   "outputs": [],
   "source": [
    "sub01 = sub01.reshape(240,9)"
   ]
  },
  {
   "cell_type": "code",
   "execution_count": 26,
   "id": "13503d78",
   "metadata": {},
   "outputs": [
    {
     "data": {
      "text/plain": [
       "(240, 9)"
      ]
     },
     "execution_count": 26,
     "metadata": {},
     "output_type": "execute_result"
    }
   ],
   "source": [
    "sub01.shape"
   ]
  },
  {
   "cell_type": "code",
   "execution_count": 32,
   "id": "8e5bc8be",
   "metadata": {},
   "outputs": [
    {
     "data": {
      "text/plain": [
       "40"
      ]
     },
     "execution_count": 32,
     "metadata": {},
     "output_type": "execute_result"
    }
   ],
   "source": [
    "data_dict['sub01'].shape[1]"
   ]
  },
  {
   "cell_type": "code",
   "execution_count": null,
   "id": "2d092ea7",
   "metadata": {},
   "outputs": [],
   "source": [
    "# 20 participants 240, 9 \n",
    "train = [][][]"
   ]
  },
  {
   "cell_type": "code",
   "execution_count": 89,
   "id": "f9a33326",
   "metadata": {},
   "outputs": [],
   "source": [
    "def split_data_into_train_test_valid(data_dict):\n",
    "    # one video is 6 matrices of shape 40 * 9 -->  240 * 9 \n",
    "    # one participant has 40 videos --> 240 * 40 --> 9600 , 9\n",
    "\n",
    "    train = np.empty((192000,9)) # 20 participants --> 9600*20 , 9\n",
    "    train[:] = np.nan\n",
    "    valid = np.empty((57600,9)) # 6 participants --> 9600*6 , 9\n",
    "    valid[:] = np.nan\n",
    "    test = np.empty((57600,9)) # 6 participants --> 9600*6 , 9\n",
    "    test[:] = np.nan\n",
    "\n",
    "\n",
    "    list_of_participants = []\n",
    "    # loop over all participants\n",
    "    for sub in data_dict.keys():\n",
    "        one_participant = np.empty((9600,9))\n",
    "        one_participant[:] = np.nan\n",
    "        # loop over all channels (40)\n",
    "        for channel in range(data_dict[sub].shape[1]):\n",
    "            temp = data_dict[sub][channel*6:(channel+1)*6]\n",
    "            temp = temp.reshape(240,9)\n",
    "            #train[channel*240:(channel+1)*240] = temp\n",
    "            one_participant[channel*240:(channel+1)*240] = temp\n",
    "        list_of_participants.append(one_participant)\n",
    "\n",
    "    j = 0\n",
    "    k = 0\n",
    "    for i in range(len(list_of_participants)):\n",
    "        if i < 20: \n",
    "            train[9600*i:9600*(i+1)] = list_of_participants[i]\n",
    "        if (i >= 20) & (i < 26):\n",
    "            valid[9600*j:9600*(j+1)] = list_of_participants[i]\n",
    "            print(9600*j, 9600*(j+1))\n",
    "            j = j+1\n",
    "        if i >= 26:\n",
    "            test[9600*k:9600*(k+1)] = list_of_participants[i]\n",
    "            k = k+1\n",
    "    return train, valid, test"
   ]
  },
  {
   "cell_type": "code",
   "execution_count": 90,
   "id": "ac4ea48a",
   "metadata": {},
   "outputs": [
    {
     "name": "stdout",
     "output_type": "stream",
     "text": [
      "0 9600\n",
      "9600 19200\n",
      "19200 28800\n",
      "28800 38400\n",
      "38400 48000\n",
      "48000 57600\n"
     ]
    }
   ],
   "source": [
    "train, valid, test = split_data_into_train_test_valid(data_dict)"
   ]
  },
  {
   "cell_type": "code",
   "execution_count": 91,
   "id": "2ba280bc",
   "metadata": {},
   "outputs": [
    {
     "data": {
      "text/plain": [
       "False"
      ]
     },
     "execution_count": 91,
     "metadata": {},
     "output_type": "execute_result"
    }
   ],
   "source": [
    "np.isnan(train).any()"
   ]
  },
  {
   "cell_type": "code",
   "execution_count": 92,
   "id": "2dca11d1",
   "metadata": {},
   "outputs": [
    {
     "data": {
      "text/plain": [
       "False"
      ]
     },
     "execution_count": 92,
     "metadata": {},
     "output_type": "execute_result"
    }
   ],
   "source": [
    "np.isnan(valid).any()"
   ]
  },
  {
   "cell_type": "code",
   "execution_count": 93,
   "id": "1e078fdb",
   "metadata": {},
   "outputs": [
    {
     "data": {
      "text/plain": [
       "False"
      ]
     },
     "execution_count": 93,
     "metadata": {},
     "output_type": "execute_result"
    }
   ],
   "source": [
    "np.isnan(test).any()"
   ]
  },
  {
   "cell_type": "code",
   "execution_count": 81,
   "id": "008cc14d",
   "metadata": {},
   "outputs": [
    {
     "data": {
      "text/plain": [
       "array([[False, False, False, ..., False, False, False],\n",
       "       [False, False, False, ..., False, False, False],\n",
       "       [False, False, False, ..., False, False, False],\n",
       "       ...,\n",
       "       [ True,  True,  True, ...,  True,  True,  True],\n",
       "       [ True,  True,  True, ...,  True,  True,  True],\n",
       "       [ True,  True,  True, ...,  True,  True,  True]])"
      ]
     },
     "execution_count": 81,
     "metadata": {},
     "output_type": "execute_result"
    }
   ],
   "source": [
    "np.isnan(test)"
   ]
  },
  {
   "cell_type": "code",
   "execution_count": 63,
   "id": "e2bc9ca5",
   "metadata": {},
   "outputs": [
    {
     "data": {
      "text/plain": [
       "(9600, 9)"
      ]
     },
     "execution_count": 63,
     "metadata": {},
     "output_type": "execute_result"
    }
   ],
   "source": [
    "temp = list_of_participants[0:1]\n",
    "temp[0].shape"
   ]
  },
  {
   "cell_type": "code",
   "execution_count": 37,
   "id": "76d9f1f1",
   "metadata": {},
   "outputs": [
    {
     "name": "stdout",
     "output_type": "stream",
     "text": [
      "(6, 40, 9)\n",
      "(6, 40, 9)\n",
      "(6, 40, 9)\n",
      "(6, 40, 9)\n",
      "(6, 40, 9)\n",
      "(6, 40, 9)\n",
      "(6, 40, 9)\n",
      "(6, 40, 9)\n",
      "(6, 40, 9)\n",
      "(6, 40, 9)\n",
      "(6, 40, 9)\n",
      "(6, 40, 9)\n",
      "(6, 40, 9)\n",
      "(6, 40, 9)\n",
      "(6, 40, 9)\n",
      "(6, 40, 9)\n",
      "(6, 40, 9)\n",
      "(6, 40, 9)\n",
      "(6, 40, 9)\n",
      "(6, 40, 9)\n",
      "(6, 40, 9)\n",
      "(6, 40, 9)\n",
      "(6, 40, 9)\n",
      "(6, 40, 9)\n",
      "(6, 40, 9)\n",
      "(6, 40, 9)\n",
      "(6, 40, 9)\n",
      "(6, 40, 9)\n",
      "(6, 40, 9)\n",
      "(6, 40, 9)\n",
      "(6, 40, 9)\n",
      "(6, 40, 9)\n",
      "(6, 40, 9)\n",
      "(6, 40, 9)\n",
      "(6, 40, 9)\n",
      "(6, 40, 9)\n",
      "(6, 40, 9)\n",
      "(6, 40, 9)\n",
      "(6, 40, 9)\n",
      "(6, 40, 9)\n"
     ]
    }
   ],
   "source": [
    "for channel in range(data_dict['sub01'].shape[1]):\n",
    "    print(data_dict['sub01'][channel*6:(channel+1)*6].shape)"
   ]
  },
  {
   "cell_type": "code",
   "execution_count": 38,
   "id": "d5c5c91d",
   "metadata": {},
   "outputs": [
    {
     "name": "stdout",
     "output_type": "stream",
     "text": [
      "0\n",
      "1\n",
      "2\n",
      "3\n",
      "4\n",
      "5\n",
      "6\n",
      "7\n",
      "8\n",
      "9\n",
      "10\n",
      "11\n",
      "12\n",
      "13\n",
      "14\n",
      "15\n",
      "16\n",
      "17\n",
      "18\n",
      "19\n",
      "20\n",
      "21\n",
      "22\n",
      "23\n",
      "24\n",
      "25\n",
      "26\n",
      "27\n",
      "28\n",
      "29\n",
      "30\n",
      "31\n",
      "32\n",
      "33\n",
      "34\n",
      "35\n",
      "36\n",
      "37\n",
      "38\n",
      "39\n"
     ]
    }
   ],
   "source": [
    "for channel in range(data_dict['sub01'].shape[1]):\n",
    "    print(channel)"
   ]
  },
  {
   "cell_type": "code",
   "execution_count": null,
   "id": "59b892c3",
   "metadata": {},
   "outputs": [],
   "source": [
    "# Define KNN based model for augmented data\n",
    "def knnmodel(xtrain,ytrain,xtest,ytest,kval):\n",
    "  \n",
    "  # print(\"xtrain.shape,ytrain.shape\",xtrain.shape,ytrain.shape)\n",
    "  # print(\"xtest.shape,ytest.shape\",xtest.shape,ytest.shape)\n",
    "\n",
    "  # Define the KNN model here\n",
    "\n",
    "  model = KNeighborsClassifier(n_neighbors=kval)\n",
    "  model.fit(xtrain, ytrain)\n",
    "  y_pred = model.predict(xtest)\n",
    "\n",
    "  # print(\"Accuracy score for fold\",fold_no)\n",
    "  acc = accuracy_score(ytest, y_pred)*100\n",
    "  acc = round(acc, 4)\n",
    "  print(\"Accuracy\",acc)\n",
    "  print(classification_report(ytest, y_pred))\n",
    "  print(confusion_matrix(ytest,y_pred))\n",
    "  # return acc,xtrain, xtest, ytrain, ytest\n",
    "  return acc"
   ]
  }
 ],
 "metadata": {
  "kernelspec": {
   "display_name": "Python 3 (ipykernel)",
   "language": "python",
   "name": "python3"
  },
  "language_info": {
   "codemirror_mode": {
    "name": "ipython",
    "version": 3
   },
   "file_extension": ".py",
   "mimetype": "text/x-python",
   "name": "python",
   "nbconvert_exporter": "python",
   "pygments_lexer": "ipython3",
   "version": "3.10.9"
  }
 },
 "nbformat": 4,
 "nbformat_minor": 5
}
