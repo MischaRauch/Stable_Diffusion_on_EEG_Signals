{
 "cells": [
  {
   "cell_type": "code",
   "execution_count": 3,
   "id": "2de3d51e",
   "metadata": {},
   "outputs": [],
   "source": [
    "import numpy as np\n",
    "from sklearn.metrics import confusion_matrix\n",
    "from sklearn.metrics import accuracy_score\n",
    "from sklearn.neighbors import KNeighborsClassifier\n",
    "from sklearn.metrics import classification_report,confusion_matrix,roc_auc_score\n"
   ]
  },
  {
   "cell_type": "markdown",
   "id": "18e1a9e5",
   "metadata": {},
   "source": [
    "## Get the Data and Labels"
   ]
  },
  {
   "cell_type": "code",
   "execution_count": 4,
   "id": "cd294699",
   "metadata": {},
   "outputs": [],
   "source": [
    "num_testsub = 32\n",
    "num_classes = 4\n",
    "num_channel = 40\n",
    "num_datapoints = 8064\n",
    "num_trials = 40\n",
    "sampling_rate = 128 # 128Hz as given in the data\n",
    "\n",
    "def loadfiles_normalized():\n",
    "    data_dict = {}\n",
    "    print(\"Loading files into data_dict .................\")\n",
    "    for i in range(num_testsub):\n",
    "                    if i < 10:\n",
    "                        name = '%0*d' % (2,i+1)\n",
    "                    else:\n",
    "                        name = i+1\n",
    "                    fname = 'data/data_prepared/data_norm_bhat/noramlized_datasub'+str(name) +'.npy'\n",
    "                    data_dict[\"sub%s\" %name] = np.load(fname)    \n",
    "    print(\"Loaded!!!!!\") \n",
    "    return data_dict"
   ]
  },
  {
   "cell_type": "code",
   "execution_count": 5,
   "id": "7c6ef58c",
   "metadata": {},
   "outputs": [
    {
     "name": "stdout",
     "output_type": "stream",
     "text": [
      "Loading files into data_dict .................\n",
      "Loaded!!!!!\n"
     ]
    }
   ],
   "source": [
    "data_dict = loadfiles_normalized()"
   ]
  },
  {
   "cell_type": "code",
   "execution_count": 6,
   "id": "5fb0a4da",
   "metadata": {},
   "outputs": [],
   "source": [
    "valence = np.load('data/data_prepared/labels/label_class_0.npy')\n",
    "arousal = np.load('data/data_prepared/labels/label_class_1.npy')\n",
    "dominance = np.load('data/data_prepared/labels/label_class_2.npy')\n",
    "liking = np.load('data/data_prepared/labels/label_class_3.npy')"
   ]
  },
  {
   "cell_type": "code",
   "execution_count": 7,
   "id": "d7ce49b8",
   "metadata": {},
   "outputs": [
    {
     "data": {
      "text/plain": [
       "(1280,)"
      ]
     },
     "execution_count": 7,
     "metadata": {},
     "output_type": "execute_result"
    }
   ],
   "source": [
    "valence.shape"
   ]
  },
  {
   "cell_type": "code",
   "execution_count": 8,
   "id": "2e4ff9fa",
   "metadata": {},
   "outputs": [
    {
     "data": {
      "text/plain": [
       "(40, 40, 99)"
      ]
     },
     "execution_count": 8,
     "metadata": {},
     "output_type": "execute_result"
    }
   ],
   "source": [
    "data_dict['sub01'].shape"
   ]
  },
  {
   "cell_type": "markdown",
   "id": "0f2ab717",
   "metadata": {},
   "source": [
    "## Create train test split"
   ]
  },
  {
   "cell_type": "markdown",
   "id": "7b634e6d",
   "metadata": {},
   "source": [
    "### Data"
   ]
  },
  {
   "cell_type": "code",
   "execution_count": 27,
   "id": "2d36f990",
   "metadata": {},
   "outputs": [],
   "source": [
    "# training with 22 participants each has 40 videos = 880\n",
    "train = np.zeros((0,40,99))\n",
    "train[:] = np.nan\n",
    "#train1 = \n",
    "test = np.zeros((0,40,99))\n",
    "test[:] = np.nan\n",
    "\n",
    "participation_counter = 0\n",
    "for sub in data_dict.keys():\n",
    "    if participation_counter < 22:\n",
    "        train = np.concatenate((train, data_dict[sub]), axis=0)\n",
    "    else:\n",
    "        test = np.concatenate((test, data_dict[sub]), axis=0)\n",
    "    participation_counter = participation_counter + 1"
   ]
  },
  {
   "cell_type": "code",
   "execution_count": 29,
   "id": "a8de2f58",
   "metadata": {},
   "outputs": [
    {
     "data": {
      "text/plain": [
       "False"
      ]
     },
     "execution_count": 29,
     "metadata": {},
     "output_type": "execute_result"
    }
   ],
   "source": [
    "np.isnan(train).any()"
   ]
  },
  {
   "cell_type": "code",
   "execution_count": 30,
   "id": "75d5485d",
   "metadata": {},
   "outputs": [
    {
     "data": {
      "text/plain": [
       "False"
      ]
     },
     "execution_count": 30,
     "metadata": {},
     "output_type": "execute_result"
    }
   ],
   "source": [
    "np.isnan(test).any()"
   ]
  },
  {
   "cell_type": "code",
   "execution_count": 31,
   "id": "a0ec97a1",
   "metadata": {},
   "outputs": [
    {
     "data": {
      "text/plain": [
       "(880, 40, 99)"
      ]
     },
     "execution_count": 31,
     "metadata": {},
     "output_type": "execute_result"
    }
   ],
   "source": [
    "train.shape"
   ]
  },
  {
   "cell_type": "code",
   "execution_count": 32,
   "id": "ce4fae85",
   "metadata": {},
   "outputs": [
    {
     "data": {
      "text/plain": [
       "(400, 40, 99)"
      ]
     },
     "execution_count": 32,
     "metadata": {},
     "output_type": "execute_result"
    }
   ],
   "source": [
    "test.shape"
   ]
  },
  {
   "cell_type": "markdown",
   "id": "8712b0fc",
   "metadata": {},
   "source": [
    "### Labels"
   ]
  },
  {
   "cell_type": "code",
   "execution_count": 40,
   "id": "154acfb8",
   "metadata": {},
   "outputs": [],
   "source": [
    "y_train_va = valence[: 880]\n",
    "y_train_ar = arousal[: 880]\n",
    "y_train_do = dominance[: 880]\n",
    "y_train_li = liking[: 880]\n",
    "\n",
    "y_test_va = valence[880: ]\n",
    "y_test_ar = arousal[880: ]\n",
    "y_test_do = dominance[880: ]\n",
    "y_test_li = liking[880: ]"
   ]
  },
  {
   "cell_type": "code",
   "execution_count": 41,
   "id": "736c82ad",
   "metadata": {},
   "outputs": [
    {
     "name": "stdout",
     "output_type": "stream",
     "text": [
      "(880,)\n",
      "(880,)\n",
      "(880,)\n",
      "(880,)\n",
      "(400,)\n",
      "(400,)\n",
      "(400,)\n",
      "(400,)\n"
     ]
    }
   ],
   "source": [
    "print(y_train_va.shape)\n",
    "print(y_train_ar.shape)\n",
    "print(y_train_do.shape)\n",
    "print(y_train_li.shape)\n",
    "print(y_test_va.shape)\n",
    "print(y_test_ar.shape)\n",
    "print(y_test_do.shape)\n",
    "print(y_test_li.shape)"
   ]
  },
  {
   "cell_type": "code",
   "execution_count": 134,
   "id": "dd9d01ad",
   "metadata": {},
   "outputs": [
    {
     "data": {
      "text/plain": [
       "(880, 3960)"
      ]
     },
     "execution_count": 134,
     "metadata": {},
     "output_type": "execute_result"
    }
   ],
   "source": [
    "train.reshape(-1, 40*99).shape"
   ]
  },
  {
   "cell_type": "markdown",
   "id": "a625d386",
   "metadata": {},
   "source": [
    "## KNN"
   ]
  },
  {
   "cell_type": "code",
   "execution_count": 50,
   "id": "59b892c3",
   "metadata": {},
   "outputs": [],
   "source": [
    "# Define KNN based model for augmented data\n",
    "def knnmodel(xtrain,ytrain,xtest,ytest,kval):\n",
    "  \n",
    "  # print(\"xtrain.shape,ytrain.shape\",xtrain.shape,ytrain.shape)\n",
    "  # print(\"xtest.shape,ytest.shape\",xtest.shape,ytest.shape)\n",
    "\n",
    "  # Define the KNN model here\n",
    "\n",
    "  model = KNeighborsClassifier(n_neighbors=kval)\n",
    "  model.fit(xtrain, ytrain)\n",
    "  y_pred = model.predict(xtest)\n",
    "\n",
    "  # print(\"Accuracy score for fold\",fold_no)\n",
    "  acc = accuracy_score(ytest, y_pred)*100\n",
    "  acc = round(acc, 4)\n",
    "  print(\"Accuracy\",acc)\n",
    "  #print(classification_report(ytest, y_pred))\n",
    "  #print(confusion_matrix(ytest,y_pred))\n",
    "  # return acc,xtrain, xtest, ytrain, ytest\n",
    "  return acc"
   ]
  },
  {
   "cell_type": "code",
   "execution_count": null,
   "id": "17ae7648",
   "metadata": {
    "scrolled": true
   },
   "outputs": [],
   "source": [
    "trainlabel_list = [y_train_va, y_train_ar, y_train_do, y_train_li]\n",
    "testlabel_list = [y_test_va, y_test_ar, y_test_do, y_test_li]\n",
    "names = [\"Valence\",\"Arousal\",\"Dominance\",\"Liking\"]\n",
    "scorelist = []\n",
    "score_k_value = tuple() \n",
    "\n",
    "\n",
    "\n",
    "for k in range(1,50):\n",
    "  print(\"K value =\",k)\n",
    "  for traain,tesst,name in zip(trainlabel_list,testlabel_list,names):\n",
    "    print(\"#########################################\",name,\"#########################################\")\n",
    "    sc = knnmodel(train.reshape(-1, 40*99),traain,test.reshape(-1, 40*99),tesst,kval = k)\n",
    "    scorelist.append((sc,k))\n",
    "    score_k_value = score_k_value + (sc, k)\n",
    "  \n",
    "max_va = (0,0)\n",
    "max_ar = (0,0)\n",
    "max_do = (0,0)\n",
    "max_li = (0,0)\n",
    "j = 0\n",
    "for i in range(int(len(scorelist)/4)):\n",
    "    if scorelist[j][0] > max_va[0]:\n",
    "        max_va = scorelist[j]\n",
    "    if scorelist[j+1][0] > max_ar[0]:\n",
    "        max_ar = scorelist[j+1]\n",
    "    if scorelist[j+2][0] > max_do[0]:\n",
    "        max_do = scorelist[j+2]\n",
    "    if scorelist[j+3][0] > max_li[0]:\n",
    "        max_li = scorelist[j+3]\n",
    "    j = j+4\n",
    "\n",
    "#for i,name in zip(scorelist,names):\n",
    "#    print (\"Accuracy of \",name ,i)"
   ]
  },
  {
   "cell_type": "code",
   "execution_count": 132,
   "id": "618d434f",
   "metadata": {},
   "outputs": [
    {
     "name": "stdout",
     "output_type": "stream",
     "text": [
      "(53.75, 19)\n",
      "(56.75, 20)\n",
      "(58.75, 7)\n",
      "(63.0, 49)\n"
     ]
    }
   ],
   "source": [
    "print(max_va)\n",
    "print(max_ar)\n",
    "print(max_do)\n",
    "print(max_li)"
   ]
  },
  {
   "cell_type": "code",
   "execution_count": 129,
   "id": "b27a3aef",
   "metadata": {},
   "outputs": [],
   "source": [
    "scorelist = [(15,0),(8,0),(88,0),(40,9),\n",
    "             (5,6),(67,9),(7,6),(23,0),\n",
    "             (12,2),(3,1),(5,3),(78,8)]\n",
    "max_va = (0,0)\n",
    "max_ar = (0,0)\n",
    "max_do = (0,0)\n",
    "max_li = (0,0)\n",
    "j = 0\n",
    "for i in range(int(len(scorelist)/4)):\n",
    "    if scorelist[j][0] > max_va[0]:\n",
    "        max_va = scorelist[j]\n",
    "    if scorelist[j+1][0] > max_ar[0]:\n",
    "        max_ar = scorelist[j+1]\n",
    "    if scorelist[j+2][0] > max_do[0]:\n",
    "        max_do = scorelist[j+2]\n",
    "    if scorelist[j+3][0] > max_li[0]:\n",
    "        max_li = scorelist[j+3]\n",
    "    j = j+4"
   ]
  },
  {
   "cell_type": "code",
   "execution_count": null,
   "id": "4063598a",
   "metadata": {},
   "outputs": [],
   "source": []
  }
 ],
 "metadata": {
  "kernelspec": {
   "display_name": "Python 3 (ipykernel)",
   "language": "python",
   "name": "python3"
  },
  "language_info": {
   "codemirror_mode": {
    "name": "ipython",
    "version": 3
   },
   "file_extension": ".py",
   "mimetype": "text/x-python",
   "name": "python",
   "nbconvert_exporter": "python",
   "pygments_lexer": "ipython3",
   "version": "3.10.9"
  }
 },
 "nbformat": 4,
 "nbformat_minor": 5
}
