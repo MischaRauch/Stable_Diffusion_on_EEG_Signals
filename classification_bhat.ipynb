{
 "cells": [
  {
   "cell_type": "code",
   "execution_count": 1,
   "id": "2de3d51e",
   "metadata": {},
   "outputs": [
    {
     "name": "stderr",
     "output_type": "stream",
     "text": [
      "2023-05-04 11:17:39.292775: I tensorflow/core/platform/cpu_feature_guard.cc:193] This TensorFlow binary is optimized with oneAPI Deep Neural Network Library (oneDNN) to use the following CPU instructions in performance-critical operations:  AVX2 FMA\n",
      "To enable them in other operations, rebuild TensorFlow with the appropriate compiler flags.\n"
     ]
    }
   ],
   "source": [
    "import numpy as np\n",
    "from sklearn.metrics import confusion_matrix\n",
    "from sklearn.metrics import accuracy_score\n",
    "from sklearn.neighbors import KNeighborsClassifier\n",
    "from sklearn.metrics import classification_report,confusion_matrix,roc_auc_score\n",
    "import torch\n",
    "from sklearn.svm import SVC\n",
    "\n",
    "import tensorflow as tf\n",
    "from tensorflow.keras.layers import Input, Conv2D, BatchNormalization, MaxPool2D, Flatten, Dense, Dropout,Activation,MaxPooling2D,ReLU,Add,GlobalAvgPool2D\n",
    "from tensorflow.keras import Model,Sequential\n",
    "from tensorflow.keras.activations import relu\n",
    "from tensorflow.keras.optimizers import SGD,Adam,RMSprop\n",
    "from tensorflow.keras.utils import to_categorical, plot_model\n",
    "from tensorflow.keras.callbacks import EarlyStopping\n"
   ]
  },
  {
   "cell_type": "markdown",
   "id": "18e1a9e5",
   "metadata": {},
   "source": [
    "## Get the Data and Labels"
   ]
  },
  {
   "cell_type": "code",
   "execution_count": 2,
   "id": "cd294699",
   "metadata": {},
   "outputs": [],
   "source": [
    "num_testsub = 32\n",
    "num_classes = 4\n",
    "num_channel = 40\n",
    "num_datapoints = 8064\n",
    "num_trials = 40\n",
    "sampling_rate = 128 # 128Hz as given in the data\n",
    "\n",
    "def loadfiles_normalized():\n",
    "    data_dict = {}\n",
    "    print(\"Loading files into data_dict .................\")\n",
    "    for i in range(num_testsub):\n",
    "                    if i < 10:\n",
    "                        name = '%0*d' % (2,i+1)\n",
    "                    else:\n",
    "                        name = i+1\n",
    "                    fname = 'data/data_prepared/data_norm_bhat/noramlized_datasub'+str(name) +'.npy'\n",
    "                    data_dict[\"sub%s\" %name] = np.load(fname)    \n",
    "    print(\"Loaded!!!!!\") \n",
    "    return data_dict"
   ]
  },
  {
   "cell_type": "code",
   "execution_count": 3,
   "id": "7c6ef58c",
   "metadata": {},
   "outputs": [
    {
     "name": "stdout",
     "output_type": "stream",
     "text": [
      "Loading files into data_dict .................\n",
      "Loaded!!!!!\n"
     ]
    }
   ],
   "source": [
    "data_dict = loadfiles_normalized()"
   ]
  },
  {
   "cell_type": "code",
   "execution_count": 4,
   "id": "5fb0a4da",
   "metadata": {},
   "outputs": [],
   "source": [
    "valence = np.load('data/data_prepared/labels/label_class_0.npy')\n",
    "arousal = np.load('data/data_prepared/labels/label_class_1.npy')\n",
    "dominance = np.load('data/data_prepared/labels/label_class_2.npy')\n",
    "liking = np.load('data/data_prepared/labels/label_class_3.npy')"
   ]
  },
  {
   "cell_type": "code",
   "execution_count": 5,
   "id": "d7ce49b8",
   "metadata": {},
   "outputs": [
    {
     "data": {
      "text/plain": [
       "(1280,)"
      ]
     },
     "execution_count": 5,
     "metadata": {},
     "output_type": "execute_result"
    }
   ],
   "source": [
    "valence.shape"
   ]
  },
  {
   "cell_type": "code",
   "execution_count": 6,
   "id": "2e4ff9fa",
   "metadata": {},
   "outputs": [
    {
     "data": {
      "text/plain": [
       "(40, 40, 99)"
      ]
     },
     "execution_count": 6,
     "metadata": {},
     "output_type": "execute_result"
    }
   ],
   "source": [
    "data_dict['sub01'].shape"
   ]
  },
  {
   "cell_type": "markdown",
   "id": "4f26acff",
   "metadata": {},
   "source": [
    "## Create train test split"
   ]
  },
  {
   "cell_type": "markdown",
   "id": "09073674",
   "metadata": {},
   "source": [
    "### Data"
   ]
  },
  {
   "cell_type": "code",
   "execution_count": 7,
   "id": "c313de64",
   "metadata": {},
   "outputs": [],
   "source": [
    "# training with 22 participants each has 40 videos = 880\n",
    "train = np.zeros((0,40,99))\n",
    "train[:] = np.nan\n",
    "#train1 = \n",
    "test = np.zeros((0,40,99))\n",
    "test[:] = np.nan\n",
    "\n",
    "participation_counter = 0\n",
    "for sub in data_dict.keys():\n",
    "    if participation_counter < 22:\n",
    "        train = np.concatenate((train, data_dict[sub]), axis=0)\n",
    "    else:\n",
    "        test = np.concatenate((test, data_dict[sub]), axis=0)\n",
    "    participation_counter = participation_counter + 1"
   ]
  },
  {
   "cell_type": "code",
   "execution_count": 8,
   "id": "34c5f71d",
   "metadata": {},
   "outputs": [
    {
     "data": {
      "text/plain": [
       "False"
      ]
     },
     "execution_count": 8,
     "metadata": {},
     "output_type": "execute_result"
    }
   ],
   "source": [
    "np.isnan(train).any()"
   ]
  },
  {
   "cell_type": "code",
   "execution_count": 9,
   "id": "488de44d",
   "metadata": {},
   "outputs": [
    {
     "data": {
      "text/plain": [
       "False"
      ]
     },
     "execution_count": 9,
     "metadata": {},
     "output_type": "execute_result"
    }
   ],
   "source": [
    "np.isnan(test).any()"
   ]
  },
  {
   "cell_type": "code",
   "execution_count": 10,
   "id": "2cbf605a",
   "metadata": {},
   "outputs": [
    {
     "data": {
      "text/plain": [
       "(880, 40, 99)"
      ]
     },
     "execution_count": 10,
     "metadata": {},
     "output_type": "execute_result"
    }
   ],
   "source": [
    "train.shape"
   ]
  },
  {
   "cell_type": "code",
   "execution_count": 11,
   "id": "b29b704d",
   "metadata": {},
   "outputs": [
    {
     "data": {
      "text/plain": [
       "(400, 40, 99)"
      ]
     },
     "execution_count": 11,
     "metadata": {},
     "output_type": "execute_result"
    }
   ],
   "source": [
    "test.shape"
   ]
  },
  {
   "cell_type": "markdown",
   "id": "95a72792",
   "metadata": {},
   "source": [
    "### Get generated Data"
   ]
  },
  {
   "cell_type": "markdown",
   "id": "6c6be0b5",
   "metadata": {},
   "source": [
    "### 01"
   ]
  },
  {
   "cell_type": "code",
   "execution_count": 12,
   "id": "49b044cb",
   "metadata": {},
   "outputs": [],
   "source": [
    "new_data = torch.load(\"data/sampled/01/psd_427\")\n",
    "new_data = new_data.numpy()"
   ]
  },
  {
   "cell_type": "code",
   "execution_count": 13,
   "id": "7f6dad3a",
   "metadata": {},
   "outputs": [
    {
     "data": {
      "text/plain": [
       "(427, 3, 40, 104)"
      ]
     },
     "execution_count": 13,
     "metadata": {},
     "output_type": "execute_result"
    }
   ],
   "source": [
    "new_data.shape"
   ]
  },
  {
   "cell_type": "code",
   "execution_count": 14,
   "id": "731fae27",
   "metadata": {},
   "outputs": [],
   "source": [
    "X_argument = np.zeros((880,40,99))\n",
    "X_argument[:] = np.nan\n",
    "counter = 0\n",
    "for i in range(427):\n",
    "    for j in range(3):\n",
    "        if counter == 880:\n",
    "            break\n",
    "        else:\n",
    "            X_argument[counter] = new_data[i][j][:,:99]\n",
    "            counter = counter +1"
   ]
  },
  {
   "cell_type": "code",
   "execution_count": 15,
   "id": "11d32e71",
   "metadata": {},
   "outputs": [
    {
     "data": {
      "text/plain": [
       "False"
      ]
     },
     "execution_count": 15,
     "metadata": {},
     "output_type": "execute_result"
    }
   ],
   "source": [
    "np.isnan(X_argument).any()"
   ]
  },
  {
   "cell_type": "code",
   "execution_count": 16,
   "id": "3b8545fe",
   "metadata": {},
   "outputs": [
    {
     "name": "stdout",
     "output_type": "stream",
     "text": [
      "(1760, 40, 99)\n"
     ]
    }
   ],
   "source": [
    "# 2x\n",
    "x2 = np.concatenate([X_argument, train], 0) \n",
    "print(x2.shape)"
   ]
  },
  {
   "cell_type": "markdown",
   "id": "3e8017da",
   "metadata": {},
   "source": [
    "----------------"
   ]
  },
  {
   "cell_type": "markdown",
   "id": "0a8e0514",
   "metadata": {},
   "source": [
    "### 02"
   ]
  },
  {
   "cell_type": "code",
   "execution_count": 34,
   "id": "4582d456",
   "metadata": {},
   "outputs": [],
   "source": [
    "arrays = []\n",
    "for i in range(10):\n",
    "    arrays.append(torch.load(\"data/sampled/02/sampled_40-104_43_\"+str(i)))\n",
    "generated_data = np.concatenate(arrays, axis=0)"
   ]
  },
  {
   "cell_type": "code",
   "execution_count": 35,
   "id": "c5e6a2eb",
   "metadata": {},
   "outputs": [],
   "source": [
    "X_argument2 = np.zeros((880,40,99))\n",
    "X_argument2[:] = np.nan\n",
    "counter = 0\n",
    "for i in range(430):\n",
    "    for j in range(3):\n",
    "        if counter == 880:\n",
    "            break\n",
    "        else:\n",
    "            X_argument2[counter] = generated_data[i][j][:,:99]\n",
    "            counter = counter +1"
   ]
  },
  {
   "cell_type": "code",
   "execution_count": 36,
   "id": "d5f5002b",
   "metadata": {},
   "outputs": [
    {
     "name": "stdout",
     "output_type": "stream",
     "text": [
      "(1760, 40, 99)\n"
     ]
    }
   ],
   "source": [
    "# 2x\n",
    "x22 = np.concatenate([X_argument2, train], 0) \n",
    "print(x2.shape)"
   ]
  },
  {
   "cell_type": "code",
   "execution_count": 37,
   "id": "35ed433c",
   "metadata": {},
   "outputs": [
    {
     "data": {
      "text/plain": [
       "False"
      ]
     },
     "execution_count": 37,
     "metadata": {},
     "output_type": "execute_result"
    }
   ],
   "source": [
    "np.array_equal(X_argument, train)"
   ]
  },
  {
   "cell_type": "code",
   "execution_count": 38,
   "id": "ed5e2975",
   "metadata": {},
   "outputs": [
    {
     "data": {
      "text/plain": [
       "False"
      ]
     },
     "execution_count": 38,
     "metadata": {},
     "output_type": "execute_result"
    }
   ],
   "source": [
    "np.array_equal(X_argument2, train)"
   ]
  },
  {
   "cell_type": "code",
   "execution_count": 39,
   "id": "43b5f97f",
   "metadata": {},
   "outputs": [
    {
     "data": {
      "text/plain": [
       "False"
      ]
     },
     "execution_count": 39,
     "metadata": {},
     "output_type": "execute_result"
    }
   ],
   "source": [
    "np.array_equal(X_argument, X_argument2)"
   ]
  },
  {
   "cell_type": "code",
   "execution_count": 40,
   "id": "1e14ac80",
   "metadata": {},
   "outputs": [
    {
     "data": {
      "text/plain": [
       "False"
      ]
     },
     "execution_count": 40,
     "metadata": {},
     "output_type": "execute_result"
    }
   ],
   "source": [
    "np.array_equal(x2,x22)"
   ]
  },
  {
   "cell_type": "markdown",
   "id": "0576be47",
   "metadata": {},
   "source": [
    "------------"
   ]
  },
  {
   "cell_type": "markdown",
   "id": "eaa7c662",
   "metadata": {},
   "source": [
    "### 03"
   ]
  },
  {
   "cell_type": "code",
   "execution_count": 45,
   "id": "b8e62ae1",
   "metadata": {},
   "outputs": [],
   "source": [
    "arrays = []\n",
    "for i in range(10):\n",
    "    arrays.append(torch.load(\"data/sampled/03/sampledT_40-104_43_\"+str(i)))\n",
    "generated_data = np.concatenate(arrays, axis=0)"
   ]
  },
  {
   "cell_type": "code",
   "execution_count": 46,
   "id": "b6a9e32a",
   "metadata": {},
   "outputs": [],
   "source": [
    "X_argument2 = np.zeros((880,40,99))\n",
    "X_argument2[:] = np.nan\n",
    "counter = 0\n",
    "for i in range(430):\n",
    "    for j in range(3):\n",
    "        if counter == 880:\n",
    "            break\n",
    "        else:\n",
    "            X_argument2[counter] = generated_data[i][j][:,:99]\n",
    "            counter = counter +1"
   ]
  },
  {
   "cell_type": "code",
   "execution_count": 47,
   "id": "73733c72",
   "metadata": {},
   "outputs": [
    {
     "name": "stdout",
     "output_type": "stream",
     "text": [
      "(1760, 40, 99)\n"
     ]
    }
   ],
   "source": [
    "# 2x\n",
    "x_2_03 = np.concatenate([X_argument2, train], 0) \n",
    "print(x2.shape)"
   ]
  },
  {
   "cell_type": "code",
   "execution_count": null,
   "id": "7e4d9c7e",
   "metadata": {},
   "outputs": [],
   "source": []
  },
  {
   "cell_type": "markdown",
   "id": "8aa467d5",
   "metadata": {},
   "source": [
    "------"
   ]
  },
  {
   "cell_type": "markdown",
   "id": "8ba0a116",
   "metadata": {},
   "source": [
    "### 04"
   ]
  },
  {
   "cell_type": "code",
   "execution_count": 53,
   "id": "d76d5d05",
   "metadata": {},
   "outputs": [],
   "source": [
    "arrays = []\n",
    "for i in range(10):\n",
    "    arrays.append(torch.load(\"data/sampled/04/sampledT400_43_\"+str(i)))\n",
    "generated_data = np.concatenate(arrays, axis=0)"
   ]
  },
  {
   "cell_type": "code",
   "execution_count": 54,
   "id": "f8f611fd",
   "metadata": {},
   "outputs": [],
   "source": [
    "X_argument2 = np.zeros((880,40,99))\n",
    "X_argument2[:] = np.nan\n",
    "counter = 0\n",
    "for i in range(430):\n",
    "    for j in range(3):\n",
    "        if counter == 880:\n",
    "            break\n",
    "        else:\n",
    "            X_argument2[counter] = generated_data[i][j][:,:99]\n",
    "            counter = counter +1"
   ]
  },
  {
   "cell_type": "code",
   "execution_count": 55,
   "id": "f26952e3",
   "metadata": {},
   "outputs": [
    {
     "name": "stdout",
     "output_type": "stream",
     "text": [
      "(1760, 40, 99)\n"
     ]
    }
   ],
   "source": [
    "# 2x\n",
    "x_2_04 = np.concatenate([X_argument2, train], 0) \n",
    "print(x2.shape)"
   ]
  },
  {
   "cell_type": "markdown",
   "id": "901fd6c1",
   "metadata": {},
   "source": [
    "------"
   ]
  },
  {
   "cell_type": "markdown",
   "id": "bb32555c",
   "metadata": {},
   "source": [
    "### 001"
   ]
  },
  {
   "cell_type": "code",
   "execution_count": 60,
   "id": "f10c17f8",
   "metadata": {},
   "outputs": [],
   "source": [
    "arrays = []\n",
    "for i in range(10):\n",
    "    arrays.append(torch.load(\"data/sampled/001/sampled1D_40-104_43_\"+str(i)))\n",
    "generated_data = np.concatenate(arrays, axis=0)"
   ]
  },
  {
   "cell_type": "code",
   "execution_count": 61,
   "id": "646cd050",
   "metadata": {},
   "outputs": [
    {
     "data": {
      "text/plain": [
       "(1280, 1, 40, 104)"
      ]
     },
     "execution_count": 61,
     "metadata": {},
     "output_type": "execute_result"
    }
   ],
   "source": [
    "generated_data.shape"
   ]
  },
  {
   "cell_type": "code",
   "execution_count": 62,
   "id": "fd5fa87d",
   "metadata": {},
   "outputs": [],
   "source": [
    "X_argument2 = np.zeros((880,40,99))\n",
    "X_argument2[:] = np.nan\n",
    "\n",
    "for i in range(880):\n",
    "    X_argument2[i] = generated_data[i][0][:,:99] "
   ]
  },
  {
   "cell_type": "code",
   "execution_count": 63,
   "id": "80404961",
   "metadata": {},
   "outputs": [
    {
     "data": {
      "text/plain": [
       "(880, 40, 99)"
      ]
     },
     "execution_count": 63,
     "metadata": {},
     "output_type": "execute_result"
    }
   ],
   "source": [
    "X_argument2.shape"
   ]
  },
  {
   "cell_type": "code",
   "execution_count": 65,
   "id": "7315727d",
   "metadata": {},
   "outputs": [
    {
     "name": "stdout",
     "output_type": "stream",
     "text": [
      "(1760, 40, 99)\n"
     ]
    }
   ],
   "source": [
    "# 2x\n",
    "x_2_001 = np.concatenate([X_argument2, train], 0) \n",
    "print(x_2_001.shape)"
   ]
  },
  {
   "cell_type": "markdown",
   "id": "22bbbac0",
   "metadata": {},
   "source": [
    "### 002"
   ]
  },
  {
   "cell_type": "code",
   "execution_count": 70,
   "id": "9074fa29",
   "metadata": {},
   "outputs": [],
   "source": [
    "arrays = []\n",
    "for i in range(10):\n",
    "    arrays.append(torch.load(\"data/sampled/002/sampled1D_1500_128_\"+str(i)))\n",
    "generated_data = np.concatenate(arrays, axis=0)"
   ]
  },
  {
   "cell_type": "code",
   "execution_count": 71,
   "id": "1c922d03",
   "metadata": {},
   "outputs": [
    {
     "data": {
      "text/plain": [
       "(1280, 1, 40, 104)"
      ]
     },
     "execution_count": 71,
     "metadata": {},
     "output_type": "execute_result"
    }
   ],
   "source": [
    "generated_data.shape"
   ]
  },
  {
   "cell_type": "code",
   "execution_count": 72,
   "id": "c4019441",
   "metadata": {},
   "outputs": [],
   "source": [
    "X_argument2 = np.zeros((880,40,99))\n",
    "X_argument2[:] = np.nan\n",
    "\n",
    "for i in range(880):\n",
    "    X_argument2[i] = generated_data[i][0][:,:99] "
   ]
  },
  {
   "cell_type": "code",
   "execution_count": 73,
   "id": "0e1e8c8f",
   "metadata": {},
   "outputs": [
    {
     "data": {
      "text/plain": [
       "(880, 40, 99)"
      ]
     },
     "execution_count": 73,
     "metadata": {},
     "output_type": "execute_result"
    }
   ],
   "source": [
    "X_argument2.shape"
   ]
  },
  {
   "cell_type": "code",
   "execution_count": 74,
   "id": "a5cc985a",
   "metadata": {},
   "outputs": [
    {
     "name": "stdout",
     "output_type": "stream",
     "text": [
      "(1760, 40, 99)\n"
     ]
    }
   ],
   "source": [
    "# 2x\n",
    "x_2_002 = np.concatenate([X_argument2, train], 0) \n",
    "print(x_2_001.shape)"
   ]
  },
  {
   "cell_type": "markdown",
   "id": "6f92a42d",
   "metadata": {},
   "source": [
    "### 003"
   ]
  },
  {
   "cell_type": "code",
   "execution_count": 79,
   "id": "0f270967",
   "metadata": {},
   "outputs": [],
   "source": [
    "arrays = []\n",
    "for i in range(10):\n",
    "    arrays.append(torch.load(\"data/sampled/003/sampled1D_2000_128_\"+str(i)))\n",
    "generated_data = np.concatenate(arrays, axis=0)"
   ]
  },
  {
   "cell_type": "code",
   "execution_count": 80,
   "id": "545a8fd0",
   "metadata": {},
   "outputs": [
    {
     "data": {
      "text/plain": [
       "(1280, 1, 40, 104)"
      ]
     },
     "execution_count": 80,
     "metadata": {},
     "output_type": "execute_result"
    }
   ],
   "source": [
    "generated_data.shape"
   ]
  },
  {
   "cell_type": "code",
   "execution_count": 81,
   "id": "acd0c18b",
   "metadata": {},
   "outputs": [],
   "source": [
    "X_argument2 = np.zeros((880,40,99))\n",
    "X_argument2[:] = np.nan\n",
    "\n",
    "for i in range(880):\n",
    "    X_argument2[i] = generated_data[i][0][:,:99] "
   ]
  },
  {
   "cell_type": "code",
   "execution_count": 82,
   "id": "117e3f5f",
   "metadata": {},
   "outputs": [
    {
     "data": {
      "text/plain": [
       "(880, 40, 99)"
      ]
     },
     "execution_count": 82,
     "metadata": {},
     "output_type": "execute_result"
    }
   ],
   "source": [
    "X_argument2.shape"
   ]
  },
  {
   "cell_type": "code",
   "execution_count": 83,
   "id": "06030b48",
   "metadata": {},
   "outputs": [
    {
     "name": "stdout",
     "output_type": "stream",
     "text": [
      "(1760, 40, 99)\n"
     ]
    }
   ],
   "source": [
    "# 2x\n",
    "x_2_003 = np.concatenate([X_argument2, train], 0) \n",
    "print(x_2_003.shape)"
   ]
  },
  {
   "cell_type": "markdown",
   "id": "a0077769",
   "metadata": {},
   "source": [
    "### Labels"
   ]
  },
  {
   "cell_type": "code",
   "execution_count": 17,
   "id": "cd82f4c2",
   "metadata": {},
   "outputs": [],
   "source": [
    "y_train_va = valence[: 880]\n",
    "y_train_ar = arousal[: 880]\n",
    "y_train_do = dominance[: 880]\n",
    "y_train_li = liking[: 880]\n",
    "\n",
    "y_test_va = valence[880: ]\n",
    "y_test_ar = arousal[880: ]\n",
    "y_test_do = dominance[880: ]\n",
    "y_test_li = liking[880: ]"
   ]
  },
  {
   "cell_type": "code",
   "execution_count": 18,
   "id": "9575ec64",
   "metadata": {},
   "outputs": [],
   "source": [
    "# Augmenting the labels \n",
    "# 2x\n",
    "y_train_va2 = np.hstack((y_train_va,y_train_va))\n",
    "y_train_ar2 = np.hstack((y_train_ar,y_train_ar))\n",
    "y_train_do2 = np.hstack((y_train_do,y_train_do))\n",
    "y_train_li2 = np.hstack((y_train_li,y_train_li))"
   ]
  },
  {
   "cell_type": "code",
   "execution_count": 19,
   "id": "8e1b7ea0",
   "metadata": {},
   "outputs": [
    {
     "name": "stdout",
     "output_type": "stream",
     "text": [
      "(880,)\n",
      "(880,)\n",
      "(880,)\n",
      "(880,)\n",
      "(400,)\n",
      "(400,)\n",
      "(400,)\n",
      "(400,)\n"
     ]
    }
   ],
   "source": [
    "print(y_train_va.shape)\n",
    "print(y_train_ar.shape)\n",
    "print(y_train_do.shape)\n",
    "print(y_train_li.shape)\n",
    "print(y_test_va.shape)\n",
    "print(y_test_ar.shape)\n",
    "print(y_test_do.shape)\n",
    "print(y_test_li.shape)"
   ]
  },
  {
   "cell_type": "markdown",
   "id": "e962ec17",
   "metadata": {},
   "source": [
    "## KNN"
   ]
  },
  {
   "cell_type": "code",
   "execution_count": 20,
   "id": "a0592052",
   "metadata": {},
   "outputs": [
    {
     "data": {
      "text/plain": [
       "(880, 3960)"
      ]
     },
     "execution_count": 20,
     "metadata": {},
     "output_type": "execute_result"
    }
   ],
   "source": [
    "train.reshape(-1, 40*99).shape"
   ]
  },
  {
   "cell_type": "code",
   "execution_count": 21,
   "id": "59b892c3",
   "metadata": {},
   "outputs": [],
   "source": [
    "# Define KNN based model for actual/original dataset\n",
    "def knnmodel(xtrain,ytrain,xtest,ytest,kval):\n",
    "  random_state=100\n",
    "  # print(\"xtrain.shape,ytrain.shape\",xtrain.shape,ytrain.shape)\n",
    "  # print(\"xtest.shape,ytest.shape\",xtrain.shape,ytrain.shape)\n",
    "  # Define the KNN model here\n",
    "\n",
    "  model = KNeighborsClassifier(n_neighbors=kval) \n",
    "  model.fit(xtrain, ytrain)\n",
    "  y_pred = model.predict(xtest)\n",
    "\n",
    "  # print(\"Accuracy score for fold\",fold_no)\n",
    "  acc = accuracy_score(ytest, y_pred)*100\n",
    "  #acc = round(acc, 4)\n",
    "  print(\"Accuracy\",acc)\n",
    "  # print(classification_report(ytest, y_pred))\n",
    "  # print(confusion_matrix(ytest,y_pred))\n",
    "  # return acc,xtrain, xtest, ytrain, ytest\n",
    "  return acc"
   ]
  },
  {
   "cell_type": "code",
   "execution_count": 22,
   "id": "b2464b7e",
   "metadata": {},
   "outputs": [],
   "source": [
    "# Define KNN based model for augmented data\n",
    "def knnmodel2(xtrain,ytrain,xtest,ytest,kval):\n",
    "  \n",
    "  # print(\"xtrain.shape,ytrain.shape\",xtrain.shape,ytrain.shape)\n",
    "  # print(\"xtest.shape,ytest.shape\",xtest.shape,ytest.shape)\n",
    "\n",
    "  # Define the KNN model here\n",
    "\n",
    "  model = KNeighborsClassifier(n_neighbors=kval)\n",
    "  model.fit(xtrain, ytrain)\n",
    "  y_pred = model.predict(xtest)\n",
    "\n",
    "  # print(\"Accuracy score for fold\",fold_no)\n",
    "  acc = accuracy_score(ytest, y_pred)*100\n",
    "  #acc = round(acc, 4)\n",
    "  print(\"Accuracy\",acc)\n",
    "  #print(classification_report(ytest, y_pred))\n",
    "  #print(confusion_matrix(ytest,y_pred))\n",
    "  # return acc,xtrain, xtest, ytrain, ytest\n",
    "  return acc"
   ]
  },
  {
   "cell_type": "code",
   "execution_count": 23,
   "id": "bd50f1c9",
   "metadata": {
    "scrolled": true
   },
   "outputs": [
    {
     "name": "stdout",
     "output_type": "stream",
     "text": [
      "K value = 1\n",
      "######################################### Valence #########################################\n",
      "Accuracy 50.5\n",
      "######################################### Arousal #########################################\n",
      "Accuracy 48.0\n",
      "######################################### Dominance #########################################\n",
      "Accuracy 53.5\n",
      "######################################### Liking #########################################\n",
      "Accuracy 50.0\n",
      "K value = 2\n",
      "######################################### Valence #########################################\n",
      "Accuracy 43.25\n",
      "######################################### Arousal #########################################\n",
      "Accuracy 47.5\n",
      "######################################### Dominance #########################################\n",
      "Accuracy 42.5\n",
      "######################################### Liking #########################################\n",
      "Accuracy 46.0\n",
      "K value = 3\n",
      "######################################### Valence #########################################\n",
      "Accuracy 50.5\n",
      "######################################### Arousal #########################################\n",
      "Accuracy 47.75\n",
      "######################################### Dominance #########################################\n",
      "Accuracy 54.25\n",
      "######################################### Liking #########################################\n",
      "Accuracy 51.5\n",
      "K value = 4\n",
      "######################################### Valence #########################################\n",
      "Accuracy 45.5\n",
      "######################################### Arousal #########################################\n",
      "Accuracy 48.75\n",
      "######################################### Dominance #########################################\n",
      "Accuracy 46.5\n",
      "######################################### Liking #########################################\n",
      "Accuracy 47.25\n",
      "K value = 5\n",
      "######################################### Valence #########################################\n",
      "Accuracy 51.74999999999999\n",
      "######################################### Arousal #########################################\n",
      "Accuracy 53.0\n",
      "######################################### Dominance #########################################\n",
      "Accuracy 56.25\n",
      "######################################### Liking #########################################\n",
      "Accuracy 52.75\n",
      "K value = 6\n",
      "######################################### Valence #########################################\n",
      "Accuracy 48.5\n",
      "######################################### Arousal #########################################\n",
      "Accuracy 53.0\n",
      "######################################### Dominance #########################################\n",
      "Accuracy 49.5\n",
      "######################################### Liking #########################################\n",
      "Accuracy 50.74999999999999\n",
      "K value = 7\n",
      "######################################### Valence #########################################\n",
      "Accuracy 53.0\n",
      "######################################### Arousal #########################################\n",
      "Accuracy 54.50000000000001\n",
      "######################################### Dominance #########################################\n",
      "Accuracy 58.75\n",
      "######################################### Liking #########################################\n",
      "Accuracy 54.75\n",
      "K value = 8\n",
      "######################################### Valence #########################################\n",
      "Accuracy 48.0\n",
      "######################################### Arousal #########################################\n",
      "Accuracy 55.00000000000001\n",
      "######################################### Dominance #########################################\n",
      "Accuracy 51.5\n",
      "######################################### Liking #########################################\n",
      "Accuracy 51.5\n",
      "K value = 9\n",
      "######################################### Valence #########################################\n",
      "Accuracy 50.0\n",
      "######################################### Arousal #########################################\n",
      "Accuracy 55.25\n",
      "######################################### Dominance #########################################\n",
      "Accuracy 56.25\n",
      "######################################### Liking #########################################\n",
      "Accuracy 57.75\n",
      "K value = 10\n",
      "######################################### Valence #########################################\n",
      "Accuracy 48.5\n",
      "######################################### Arousal #########################################\n",
      "Accuracy 55.00000000000001\n",
      "######################################### Dominance #########################################\n",
      "Accuracy 50.74999999999999\n",
      "######################################### Liking #########################################\n",
      "Accuracy 54.25\n",
      "K value = 11\n",
      "######################################### Valence #########################################\n",
      "Accuracy 49.0\n",
      "######################################### Arousal #########################################\n",
      "Accuracy 54.50000000000001\n",
      "######################################### Dominance #########################################\n",
      "Accuracy 57.75\n",
      "######################################### Liking #########################################\n",
      "Accuracy 56.25\n",
      "K value = 12\n",
      "######################################### Valence #########################################\n",
      "Accuracy 49.5\n",
      "######################################### Arousal #########################################\n",
      "Accuracy 54.0\n",
      "######################################### Dominance #########################################\n",
      "Accuracy 51.24999999999999\n",
      "######################################### Liking #########################################\n",
      "Accuracy 53.75\n",
      "K value = 13\n",
      "######################################### Valence #########################################\n",
      "Accuracy 51.24999999999999\n",
      "######################################### Arousal #########################################\n",
      "Accuracy 52.75\n",
      "######################################### Dominance #########################################\n",
      "Accuracy 56.00000000000001\n",
      "######################################### Liking #########################################\n",
      "Accuracy 56.99999999999999\n",
      "K value = 14\n",
      "######################################### Valence #########################################\n",
      "Accuracy 50.5\n",
      "######################################### Arousal #########################################\n",
      "Accuracy 54.25\n",
      "######################################### Dominance #########################################\n",
      "Accuracy 51.74999999999999\n",
      "######################################### Liking #########################################\n",
      "Accuracy 55.00000000000001\n",
      "K value = 15\n",
      "######################################### Valence #########################################\n",
      "Accuracy 51.74999999999999\n",
      "######################################### Arousal #########################################\n",
      "Accuracy 54.0\n",
      "######################################### Dominance #########################################\n",
      "Accuracy 55.75\n",
      "######################################### Liking #########################################\n",
      "Accuracy 56.00000000000001\n",
      "K value = 16\n",
      "######################################### Valence #########################################\n",
      "Accuracy 50.24999999999999\n",
      "######################################### Arousal #########################################\n",
      "Accuracy 56.00000000000001\n",
      "######################################### Dominance #########################################\n",
      "Accuracy 50.74999999999999\n",
      "######################################### Liking #########################################\n",
      "Accuracy 57.75\n",
      "K value = 17\n",
      "######################################### Valence #########################################\n",
      "Accuracy 53.5\n",
      "######################################### Arousal #########################################\n",
      "Accuracy 53.0\n",
      "######################################### Dominance #########################################\n",
      "Accuracy 54.75\n",
      "######################################### Liking #########################################\n",
      "Accuracy 56.99999999999999\n",
      "K value = 18\n",
      "######################################### Valence #########################################\n",
      "Accuracy 50.5\n",
      "######################################### Arousal #########################################\n",
      "Accuracy 55.75\n",
      "######################################### Dominance #########################################\n",
      "Accuracy 53.25\n",
      "######################################### Liking #########################################\n",
      "Accuracy 56.49999999999999\n",
      "K value = 19\n",
      "######################################### Valence #########################################\n",
      "Accuracy 53.75\n",
      "######################################### Arousal #########################################\n",
      "Accuracy 54.50000000000001\n",
      "######################################### Dominance #########################################\n",
      "Accuracy 54.25\n",
      "######################################### Liking #########################################\n"
     ]
    },
    {
     "name": "stdout",
     "output_type": "stream",
     "text": [
      "Accuracy 59.0\n",
      "K value = 20\n",
      "######################################### Valence #########################################\n",
      "Accuracy 50.0\n",
      "######################################### Arousal #########################################\n",
      "Accuracy 56.75\n",
      "######################################### Dominance #########################################\n",
      "Accuracy 52.0\n",
      "######################################### Liking #########################################\n",
      "Accuracy 57.75\n",
      "K value = 21\n",
      "######################################### Valence #########################################\n",
      "Accuracy 52.0\n",
      "######################################### Arousal #########################################\n",
      "Accuracy 53.75\n",
      "######################################### Dominance #########################################\n",
      "Accuracy 56.25\n",
      "######################################### Liking #########################################\n",
      "Accuracy 58.5\n",
      "K value = 22\n",
      "######################################### Valence #########################################\n",
      "Accuracy 50.24999999999999\n",
      "######################################### Arousal #########################################\n",
      "Accuracy 53.75\n",
      "######################################### Dominance #########################################\n",
      "Accuracy 52.75\n",
      "######################################### Liking #########################################\n",
      "Accuracy 58.75\n",
      "K value = 23\n",
      "######################################### Valence #########################################\n",
      "Accuracy 51.5\n",
      "######################################### Arousal #########################################\n",
      "Accuracy 54.25\n",
      "######################################### Dominance #########################################\n",
      "Accuracy 55.75\n",
      "######################################### Liking #########################################\n",
      "Accuracy 59.25\n",
      "K value = 24\n",
      "######################################### Valence #########################################\n",
      "Accuracy 49.75\n",
      "######################################### Arousal #########################################\n",
      "Accuracy 54.0\n",
      "######################################### Dominance #########################################\n",
      "Accuracy 51.5\n",
      "######################################### Liking #########################################\n",
      "Accuracy 58.75\n",
      "K value = 25\n",
      "######################################### Valence #########################################\n",
      "Accuracy 49.25\n",
      "######################################### Arousal #########################################\n",
      "Accuracy 52.0\n",
      "######################################### Dominance #########################################\n",
      "Accuracy 56.25\n",
      "######################################### Liking #########################################\n",
      "Accuracy 58.25\n",
      "K value = 26\n",
      "######################################### Valence #########################################\n",
      "Accuracy 47.75\n",
      "######################################### Arousal #########################################\n",
      "Accuracy 52.0\n",
      "######################################### Dominance #########################################\n",
      "Accuracy 52.25\n",
      "######################################### Liking #########################################\n",
      "Accuracy 56.99999999999999\n",
      "K value = 27\n",
      "######################################### Valence #########################################\n",
      "Accuracy 51.0\n",
      "######################################### Arousal #########################################\n",
      "Accuracy 52.75\n",
      "######################################### Dominance #########################################\n",
      "Accuracy 57.25\n",
      "######################################### Liking #########################################\n",
      "Accuracy 58.75\n",
      "K value = 28\n",
      "######################################### Valence #########################################\n",
      "Accuracy 49.5\n",
      "######################################### Arousal #########################################\n",
      "Accuracy 52.5\n",
      "######################################### Dominance #########################################\n",
      "Accuracy 53.0\n",
      "######################################### Liking #########################################\n",
      "Accuracy 59.25\n",
      "K value = 29\n",
      "######################################### Valence #########################################\n",
      "Accuracy 52.75\n",
      "######################################### Arousal #########################################\n",
      "Accuracy 51.74999999999999\n",
      "######################################### Dominance #########################################\n",
      "Accuracy 57.49999999999999\n",
      "######################################### Liking #########################################\n",
      "Accuracy 58.25\n",
      "K value = 30\n",
      "######################################### Valence #########################################\n",
      "Accuracy 51.0\n",
      "######################################### Arousal #########################################\n",
      "Accuracy 53.0\n",
      "######################################### Dominance #########################################\n",
      "Accuracy 54.25\n",
      "######################################### Liking #########################################\n",
      "Accuracy 58.5\n",
      "K value = 31\n",
      "######################################### Valence #########################################\n",
      "Accuracy 52.25\n",
      "######################################### Arousal #########################################\n",
      "Accuracy 54.75\n",
      "######################################### Dominance #########################################\n",
      "Accuracy 56.25\n",
      "######################################### Liking #########################################\n",
      "Accuracy 60.0\n",
      "K value = 32\n",
      "######################################### Valence #########################################\n",
      "Accuracy 53.0\n",
      "######################################### Arousal #########################################\n",
      "Accuracy 53.0\n",
      "######################################### Dominance #########################################\n",
      "Accuracy 51.5\n",
      "######################################### Liking #########################################\n",
      "Accuracy 59.0\n",
      "K value = 33\n",
      "######################################### Valence #########################################\n",
      "Accuracy 52.5\n",
      "######################################### Arousal #########################################\n",
      "Accuracy 53.75\n",
      "######################################### Dominance #########################################\n",
      "Accuracy 56.49999999999999\n",
      "######################################### Liking #########################################\n",
      "Accuracy 60.5\n",
      "K value = 34\n",
      "######################################### Valence #########################################\n",
      "Accuracy 51.24999999999999\n",
      "######################################### Arousal #########################################\n",
      "Accuracy 52.0\n",
      "######################################### Dominance #########################################\n",
      "Accuracy 54.0\n",
      "######################################### Liking #########################################\n",
      "Accuracy 61.25000000000001\n",
      "K value = 35\n",
      "######################################### Valence #########################################\n",
      "Accuracy 53.25\n",
      "######################################### Arousal #########################################\n",
      "Accuracy 52.75\n",
      "######################################### Dominance #########################################\n",
      "Accuracy 56.00000000000001\n",
      "######################################### Liking #########################################\n",
      "Accuracy 61.0\n",
      "K value = 36\n",
      "######################################### Valence #########################################\n",
      "Accuracy 52.0\n",
      "######################################### Arousal #########################################\n",
      "Accuracy 51.74999999999999\n",
      "######################################### Dominance #########################################\n",
      "Accuracy 54.50000000000001\n",
      "######################################### Liking #########################################\n",
      "Accuracy 60.25\n",
      "K value = 37\n",
      "######################################### Valence #########################################\n",
      "Accuracy 53.5\n",
      "######################################### Arousal #########################################\n",
      "Accuracy 53.25\n",
      "######################################### Dominance #########################################\n",
      "Accuracy 57.25\n",
      "######################################### Liking #########################################\n",
      "Accuracy 61.0\n",
      "K value = 38\n",
      "######################################### Valence #########################################\n",
      "Accuracy 50.74999999999999\n",
      "######################################### Arousal #########################################\n",
      "Accuracy 53.75\n",
      "######################################### Dominance #########################################\n",
      "Accuracy 55.00000000000001\n",
      "######################################### Liking #########################################\n"
     ]
    },
    {
     "name": "stdout",
     "output_type": "stream",
     "text": [
      "Accuracy 60.25\n",
      "K value = 39\n",
      "######################################### Valence #########################################\n",
      "Accuracy 52.75\n",
      "######################################### Arousal #########################################\n",
      "Accuracy 52.75\n",
      "######################################### Dominance #########################################\n",
      "Accuracy 56.25\n",
      "######################################### Liking #########################################\n",
      "Accuracy 62.0\n",
      "K value = 40\n",
      "######################################### Valence #########################################\n",
      "Accuracy 52.0\n",
      "######################################### Arousal #########################################\n",
      "Accuracy 51.5\n",
      "######################################### Dominance #########################################\n",
      "Accuracy 55.00000000000001\n",
      "######################################### Liking #########################################\n",
      "Accuracy 61.5\n",
      "K value = 41\n",
      "######################################### Valence #########################################\n",
      "Accuracy 51.74999999999999\n",
      "######################################### Arousal #########################################\n",
      "Accuracy 52.0\n",
      "######################################### Dominance #########################################\n",
      "Accuracy 56.25\n",
      "######################################### Liking #########################################\n",
      "Accuracy 61.5\n",
      "K value = 42\n",
      "######################################### Valence #########################################\n",
      "Accuracy 52.5\n",
      "######################################### Arousal #########################################\n",
      "Accuracy 53.25\n",
      "######################################### Dominance #########################################\n",
      "Accuracy 55.00000000000001\n",
      "######################################### Liking #########################################\n",
      "Accuracy 61.0\n",
      "K value = 43\n",
      "######################################### Valence #########################################\n",
      "Accuracy 53.0\n",
      "######################################### Arousal #########################################\n",
      "Accuracy 52.0\n",
      "######################################### Dominance #########################################\n",
      "Accuracy 56.75\n",
      "######################################### Liking #########################################\n",
      "Accuracy 61.5\n",
      "K value = 44\n",
      "######################################### Valence #########################################\n",
      "Accuracy 52.5\n",
      "######################################### Arousal #########################################\n",
      "Accuracy 52.0\n",
      "######################################### Dominance #########################################\n",
      "Accuracy 54.75\n",
      "######################################### Liking #########################################\n",
      "Accuracy 61.25000000000001\n",
      "K value = 45\n",
      "######################################### Valence #########################################\n",
      "Accuracy 52.5\n",
      "######################################### Arousal #########################################\n",
      "Accuracy 50.5\n",
      "######################################### Dominance #########################################\n",
      "Accuracy 56.75\n",
      "######################################### Liking #########################################\n",
      "Accuracy 62.25000000000001\n",
      "K value = 46\n",
      "######################################### Valence #########################################\n",
      "Accuracy 53.0\n",
      "######################################### Arousal #########################################\n",
      "Accuracy 52.25\n",
      "######################################### Dominance #########################################\n",
      "Accuracy 54.0\n",
      "######################################### Liking #########################################\n",
      "Accuracy 62.25000000000001\n",
      "K value = 47\n",
      "######################################### Valence #########################################\n",
      "Accuracy 52.75\n",
      "######################################### Arousal #########################################\n",
      "Accuracy 53.25\n",
      "######################################### Dominance #########################################\n",
      "Accuracy 57.75\n",
      "######################################### Liking #########################################\n",
      "Accuracy 62.5\n",
      "K value = 48\n",
      "######################################### Valence #########################################\n",
      "Accuracy 52.25\n",
      "######################################### Arousal #########################################\n",
      "Accuracy 53.0\n",
      "######################################### Dominance #########################################\n",
      "Accuracy 56.00000000000001\n",
      "######################################### Liking #########################################\n",
      "Accuracy 62.25000000000001\n",
      "K value = 49\n",
      "######################################### Valence #########################################\n",
      "Accuracy 53.25\n",
      "######################################### Arousal #########################################\n",
      "Accuracy 51.74999999999999\n",
      "######################################### Dominance #########################################\n",
      "Accuracy 57.25\n",
      "######################################### Liking #########################################\n",
      "Accuracy 63.0\n"
     ]
    }
   ],
   "source": [
    "trainlabel_list = [y_train_va, y_train_ar, y_train_do, y_train_li]\n",
    "testlabel_list = [y_test_va, y_test_ar, y_test_do, y_test_li]\n",
    "names = [\"Valence\",\"Arousal\",\"Dominance\",\"Liking\"]\n",
    "scorelist = []\n",
    "score = []\n",
    "\n",
    "\n",
    "for k in range(1,50):\n",
    "  print(\"K value =\",k)\n",
    "  for traain,tesst,name in zip(trainlabel_list,testlabel_list,names):\n",
    "    print(\"#########################################\",name,\"#########################################\")\n",
    "    sc = knnmodel(train.reshape(-1, 40*99),traain,test.reshape(-1, 40*99),tesst,kval = k)\n",
    "    scorelist.append((sc,k))\n",
    "    score.append(sc)\n",
    "  \n",
    "max_va = (0,0)\n",
    "max_ar = (0,0)\n",
    "max_do = (0,0)\n",
    "max_li = (0,0)\n",
    "j = 0\n",
    "for i in range(int(len(scorelist)/4)):\n",
    "    if scorelist[j][0] > max_va[0]:\n",
    "        max_va = scorelist[j]\n",
    "    if scorelist[j+1][0] > max_ar[0]:\n",
    "        max_ar = scorelist[j+1]\n",
    "    if scorelist[j+2][0] > max_do[0]:\n",
    "        max_do = scorelist[j+2]\n",
    "    if scorelist[j+3][0] > max_li[0]:\n",
    "        max_li = scorelist[j+3]\n",
    "    j = j+4\n",
    "\n",
    "#for i,name in zip(scorelist,names):\n",
    "#    print (\"Accuracy of \",name ,i)"
   ]
  },
  {
   "cell_type": "code",
   "execution_count": null,
   "id": "8caee934",
   "metadata": {},
   "outputs": [],
   "source": [
    "len(scorelist)"
   ]
  },
  {
   "cell_type": "code",
   "execution_count": 24,
   "id": "c9cfaa04",
   "metadata": {},
   "outputs": [
    {
     "name": "stdout",
     "output_type": "stream",
     "text": [
      "(53.75, 19)\n",
      "(56.75, 20)\n",
      "(58.75, 7)\n",
      "(63.0, 49)\n"
     ]
    }
   ],
   "source": [
    "print(max_va)\n",
    "print(max_ar)\n",
    "print(max_do)\n",
    "print(max_li)"
   ]
  },
  {
   "cell_type": "markdown",
   "id": "b76e9b02",
   "metadata": {},
   "source": [
    "### 2X Data"
   ]
  },
  {
   "cell_type": "code",
   "execution_count": null,
   "id": "8828e9e9",
   "metadata": {},
   "outputs": [],
   "source": [
    "print(\"Augmented data x2 shape:\",x2.shape)\n",
    "print(y_train_va2.shape,y_train_ar2.shape,y_train_do2.shape,y_train_li2.shape)\n"
   ]
  },
  {
   "cell_type": "code",
   "execution_count": 84,
   "id": "27b0b1d2",
   "metadata": {
    "scrolled": true
   },
   "outputs": [
    {
     "name": "stdout",
     "output_type": "stream",
     "text": [
      "K value = 1\n",
      "######################################### Valence #########################################\n",
      "Accuracy 48.0\n",
      "######################################### Arousal #########################################\n",
      "Accuracy 48.0\n",
      "######################################### Dominance #########################################\n",
      "Accuracy 52.25\n",
      "######################################### Liking #########################################\n",
      "Accuracy 48.75\n",
      "K value = 2\n",
      "######################################### Valence #########################################\n",
      "Accuracy 43.5\n",
      "######################################### Arousal #########################################\n",
      "Accuracy 50.74999999999999\n",
      "######################################### Dominance #########################################\n",
      "Accuracy 42.75\n",
      "######################################### Liking #########################################\n",
      "Accuracy 45.75\n",
      "K value = 3\n",
      "######################################### Valence #########################################\n",
      "Accuracy 50.24999999999999\n",
      "######################################### Arousal #########################################\n",
      "Accuracy 51.0\n",
      "######################################### Dominance #########################################\n",
      "Accuracy 57.75\n",
      "######################################### Liking #########################################\n",
      "Accuracy 53.5\n",
      "K value = 4\n",
      "######################################### Valence #########################################\n",
      "Accuracy 45.0\n",
      "######################################### Arousal #########################################\n",
      "Accuracy 50.74999999999999\n",
      "######################################### Dominance #########################################\n",
      "Accuracy 46.75\n",
      "######################################### Liking #########################################\n",
      "Accuracy 47.25\n",
      "K value = 5\n",
      "######################################### Valence #########################################\n",
      "Accuracy 51.24999999999999\n",
      "######################################### Arousal #########################################\n",
      "Accuracy 52.0\n",
      "######################################### Dominance #########################################\n",
      "Accuracy 59.5\n",
      "######################################### Liking #########################################\n",
      "Accuracy 57.75\n",
      "K value = 6\n",
      "######################################### Valence #########################################\n",
      "Accuracy 49.0\n",
      "######################################### Arousal #########################################\n",
      "Accuracy 51.0\n",
      "######################################### Dominance #########################################\n",
      "Accuracy 50.24999999999999\n",
      "######################################### Liking #########################################\n",
      "Accuracy 50.24999999999999\n",
      "K value = 7\n",
      "######################################### Valence #########################################\n",
      "Accuracy 50.5\n",
      "######################################### Arousal #########################################\n",
      "Accuracy 54.0\n",
      "######################################### Dominance #########################################\n",
      "Accuracy 59.25\n",
      "######################################### Liking #########################################\n",
      "Accuracy 55.50000000000001\n",
      "K value = 8\n",
      "######################################### Valence #########################################\n",
      "Accuracy 50.5\n",
      "######################################### Arousal #########################################\n",
      "Accuracy 52.75\n",
      "######################################### Dominance #########################################\n",
      "Accuracy 55.75\n",
      "######################################### Liking #########################################\n",
      "Accuracy 53.75\n",
      "K value = 9\n",
      "######################################### Valence #########################################\n",
      "Accuracy 51.74999999999999\n",
      "######################################### Arousal #########################################\n",
      "Accuracy 53.75\n",
      "######################################### Dominance #########################################\n",
      "Accuracy 58.25\n",
      "######################################### Liking #########################################\n",
      "Accuracy 59.0\n",
      "K value = 10\n",
      "######################################### Valence #########################################\n",
      "Accuracy 49.5\n",
      "######################################### Arousal #########################################\n",
      "Accuracy 53.25\n",
      "######################################### Dominance #########################################\n",
      "Accuracy 55.00000000000001\n",
      "######################################### Liking #########################################\n",
      "Accuracy 57.75\n",
      "K value = 11\n",
      "######################################### Valence #########################################\n",
      "Accuracy 51.24999999999999\n",
      "######################################### Arousal #########################################\n",
      "Accuracy 52.75\n",
      "######################################### Dominance #########################################\n",
      "Accuracy 60.0\n",
      "######################################### Liking #########################################\n",
      "Accuracy 60.25\n",
      "K value = 12\n",
      "######################################### Valence #########################################\n",
      "Accuracy 52.5\n",
      "######################################### Arousal #########################################\n",
      "Accuracy 52.5\n",
      "######################################### Dominance #########################################\n",
      "Accuracy 59.25\n",
      "######################################### Liking #########################################\n",
      "Accuracy 60.0\n",
      "K value = 13\n",
      "######################################### Valence #########################################\n",
      "Accuracy 52.0\n",
      "######################################### Arousal #########################################\n",
      "Accuracy 54.50000000000001\n",
      "######################################### Dominance #########################################\n",
      "Accuracy 61.5\n",
      "######################################### Liking #########################################\n",
      "Accuracy 59.5\n",
      "K value = 14\n",
      "######################################### Valence #########################################\n",
      "Accuracy 52.25\n",
      "######################################### Arousal #########################################\n",
      "Accuracy 53.0\n",
      "######################################### Dominance #########################################\n",
      "Accuracy 59.0\n",
      "######################################### Liking #########################################\n",
      "Accuracy 59.0\n",
      "K value = 15\n",
      "######################################### Valence #########################################\n",
      "Accuracy 52.0\n",
      "######################################### Arousal #########################################\n",
      "Accuracy 55.50000000000001\n",
      "######################################### Dominance #########################################\n",
      "Accuracy 61.25000000000001\n",
      "######################################### Liking #########################################\n",
      "Accuracy 61.25000000000001\n",
      "K value = 16\n",
      "######################################### Valence #########################################\n",
      "Accuracy 51.74999999999999\n",
      "######################################### Arousal #########################################\n",
      "Accuracy 53.0\n",
      "######################################### Dominance #########################################\n",
      "Accuracy 60.75000000000001\n",
      "######################################### Liking #########################################\n",
      "Accuracy 61.0\n",
      "K value = 17\n",
      "######################################### Valence #########################################\n",
      "Accuracy 51.0\n",
      "######################################### Arousal #########################################\n",
      "Accuracy 54.75\n",
      "######################################### Dominance #########################################\n",
      "Accuracy 64.75\n",
      "######################################### Liking #########################################\n",
      "Accuracy 61.25000000000001\n",
      "K value = 18\n",
      "######################################### Valence #########################################\n",
      "Accuracy 52.0\n",
      "######################################### Arousal #########################################\n",
      "Accuracy 51.24999999999999\n",
      "######################################### Dominance #########################################\n",
      "Accuracy 59.75\n",
      "######################################### Liking #########################################\n",
      "Accuracy 63.0\n",
      "K value = 19\n",
      "######################################### Valence #########################################\n",
      "Accuracy 52.25\n",
      "######################################### Arousal #########################################\n"
     ]
    },
    {
     "name": "stdout",
     "output_type": "stream",
     "text": [
      "Accuracy 52.75\n",
      "######################################### Dominance #########################################\n",
      "Accuracy 64.0\n",
      "######################################### Liking #########################################\n",
      "Accuracy 61.75000000000001\n",
      "K value = 20\n",
      "######################################### Valence #########################################\n",
      "Accuracy 53.75\n",
      "######################################### Arousal #########################################\n",
      "Accuracy 53.0\n",
      "######################################### Dominance #########################################\n",
      "Accuracy 61.75000000000001\n",
      "######################################### Liking #########################################\n",
      "Accuracy 61.0\n",
      "K value = 21\n",
      "######################################### Valence #########################################\n",
      "Accuracy 54.25\n",
      "######################################### Arousal #########################################\n",
      "Accuracy 53.75\n",
      "######################################### Dominance #########################################\n",
      "Accuracy 64.75\n",
      "######################################### Liking #########################################\n",
      "Accuracy 63.5\n",
      "K value = 22\n",
      "######################################### Valence #########################################\n",
      "Accuracy 52.5\n",
      "######################################### Arousal #########################################\n",
      "Accuracy 53.75\n",
      "######################################### Dominance #########################################\n",
      "Accuracy 61.0\n",
      "######################################### Liking #########################################\n",
      "Accuracy 63.24999999999999\n",
      "K value = 23\n",
      "######################################### Valence #########################################\n",
      "Accuracy 52.0\n",
      "######################################### Arousal #########################################\n",
      "Accuracy 54.75\n",
      "######################################### Dominance #########################################\n",
      "Accuracy 65.5\n",
      "######################################### Liking #########################################\n",
      "Accuracy 63.74999999999999\n",
      "K value = 24\n",
      "######################################### Valence #########################################\n",
      "Accuracy 52.25\n",
      "######################################### Arousal #########################################\n",
      "Accuracy 53.75\n",
      "######################################### Dominance #########################################\n",
      "Accuracy 62.5\n",
      "######################################### Liking #########################################\n",
      "Accuracy 64.0\n",
      "K value = 25\n",
      "######################################### Valence #########################################\n",
      "Accuracy 52.75\n",
      "######################################### Arousal #########################################\n",
      "Accuracy 54.50000000000001\n",
      "######################################### Dominance #########################################\n",
      "Accuracy 65.5\n",
      "######################################### Liking #########################################\n",
      "Accuracy 63.5\n",
      "K value = 26\n",
      "######################################### Valence #########################################\n",
      "Accuracy 52.5\n",
      "######################################### Arousal #########################################\n",
      "Accuracy 54.0\n",
      "######################################### Dominance #########################################\n",
      "Accuracy 62.74999999999999\n",
      "######################################### Liking #########################################\n",
      "Accuracy 63.5\n",
      "K value = 27\n",
      "######################################### Valence #########################################\n",
      "Accuracy 53.25\n",
      "######################################### Arousal #########################################\n",
      "Accuracy 55.25\n",
      "######################################### Dominance #########################################\n",
      "Accuracy 63.0\n",
      "######################################### Liking #########################################\n",
      "Accuracy 63.5\n",
      "K value = 28\n",
      "######################################### Valence #########################################\n",
      "Accuracy 52.0\n",
      "######################################### Arousal #########################################\n",
      "Accuracy 53.75\n",
      "######################################### Dominance #########################################\n",
      "Accuracy 60.75000000000001\n",
      "######################################### Liking #########################################\n",
      "Accuracy 63.24999999999999\n",
      "K value = 29\n",
      "######################################### Valence #########################################\n",
      "Accuracy 53.75\n",
      "######################################### Arousal #########################################\n",
      "Accuracy 54.0\n",
      "######################################### Dominance #########################################\n",
      "Accuracy 62.0\n",
      "######################################### Liking #########################################\n",
      "Accuracy 62.5\n",
      "K value = 30\n",
      "######################################### Valence #########################################\n",
      "Accuracy 53.5\n",
      "######################################### Arousal #########################################\n",
      "Accuracy 54.0\n",
      "######################################### Dominance #########################################\n",
      "Accuracy 57.99999999999999\n",
      "######################################### Liking #########################################\n",
      "Accuracy 63.0\n",
      "K value = 31\n",
      "######################################### Valence #########################################\n",
      "Accuracy 54.50000000000001\n",
      "######################################### Arousal #########################################\n",
      "Accuracy 55.25\n",
      "######################################### Dominance #########################################\n",
      "Accuracy 62.25000000000001\n",
      "######################################### Liking #########################################\n",
      "Accuracy 62.5\n",
      "K value = 32\n",
      "######################################### Valence #########################################\n",
      "Accuracy 51.0\n",
      "######################################### Arousal #########################################\n",
      "Accuracy 54.75\n",
      "######################################### Dominance #########################################\n",
      "Accuracy 57.75\n",
      "######################################### Liking #########################################\n",
      "Accuracy 62.5\n",
      "K value = 33\n",
      "######################################### Valence #########################################\n",
      "Accuracy 53.75\n",
      "######################################### Arousal #########################################\n",
      "Accuracy 54.25\n",
      "######################################### Dominance #########################################\n",
      "Accuracy 62.25000000000001\n",
      "######################################### Liking #########################################\n",
      "Accuracy 62.74999999999999\n",
      "K value = 34\n",
      "######################################### Valence #########################################\n",
      "Accuracy 51.0\n",
      "######################################### Arousal #########################################\n",
      "Accuracy 54.50000000000001\n",
      "######################################### Dominance #########################################\n",
      "Accuracy 59.0\n",
      "######################################### Liking #########################################\n",
      "Accuracy 63.5\n",
      "K value = 35\n",
      "######################################### Valence #########################################\n",
      "Accuracy 53.5\n",
      "######################################### Arousal #########################################\n",
      "Accuracy 54.25\n",
      "######################################### Dominance #########################################\n",
      "Accuracy 64.0\n",
      "######################################### Liking #########################################\n",
      "Accuracy 63.0\n",
      "K value = 36\n",
      "######################################### Valence #########################################\n",
      "Accuracy 52.5\n",
      "######################################### Arousal #########################################\n",
      "Accuracy 54.0\n",
      "######################################### Dominance #########################################\n",
      "Accuracy 61.0\n",
      "######################################### Liking #########################################\n",
      "Accuracy 63.74999999999999\n",
      "K value = 37\n",
      "######################################### Valence #########################################\n",
      "Accuracy 51.74999999999999\n",
      "######################################### Arousal #########################################\n",
      "Accuracy 54.75\n",
      "######################################### Dominance #########################################\n",
      "Accuracy 65.25\n",
      "######################################### Liking #########################################\n",
      "Accuracy 63.24999999999999\n",
      "K value = 38\n",
      "######################################### Valence #########################################\n"
     ]
    },
    {
     "name": "stdout",
     "output_type": "stream",
     "text": [
      "Accuracy 48.75\n",
      "######################################### Arousal #########################################\n",
      "Accuracy 54.25\n",
      "######################################### Dominance #########################################\n",
      "Accuracy 61.0\n",
      "######################################### Liking #########################################\n",
      "Accuracy 63.0\n",
      "K value = 39\n",
      "######################################### Valence #########################################\n",
      "Accuracy 52.0\n",
      "######################################### Arousal #########################################\n",
      "Accuracy 54.50000000000001\n",
      "######################################### Dominance #########################################\n",
      "Accuracy 64.25\n",
      "######################################### Liking #########################################\n",
      "Accuracy 62.74999999999999\n",
      "K value = 40\n",
      "######################################### Valence #########################################\n",
      "Accuracy 50.24999999999999\n",
      "######################################### Arousal #########################################\n",
      "Accuracy 53.5\n",
      "######################################### Dominance #########################################\n",
      "Accuracy 61.25000000000001\n",
      "######################################### Liking #########################################\n",
      "Accuracy 62.74999999999999\n",
      "K value = 41\n",
      "######################################### Valence #########################################\n",
      "Accuracy 51.5\n",
      "######################################### Arousal #########################################\n",
      "Accuracy 54.50000000000001\n",
      "######################################### Dominance #########################################\n",
      "Accuracy 63.74999999999999\n",
      "######################################### Liking #########################################\n",
      "Accuracy 63.0\n",
      "K value = 42\n",
      "######################################### Valence #########################################\n",
      "Accuracy 48.5\n",
      "######################################### Arousal #########################################\n",
      "Accuracy 55.25\n",
      "######################################### Dominance #########################################\n",
      "Accuracy 60.25\n",
      "######################################### Liking #########################################\n",
      "Accuracy 63.0\n",
      "K value = 43\n",
      "######################################### Valence #########################################\n",
      "Accuracy 50.24999999999999\n",
      "######################################### Arousal #########################################\n",
      "Accuracy 55.00000000000001\n",
      "######################################### Dominance #########################################\n",
      "Accuracy 65.5\n",
      "######################################### Liking #########################################\n",
      "Accuracy 63.0\n",
      "K value = 44\n",
      "######################################### Valence #########################################\n",
      "Accuracy 49.25\n",
      "######################################### Arousal #########################################\n",
      "Accuracy 55.50000000000001\n",
      "######################################### Dominance #########################################\n",
      "Accuracy 61.5\n",
      "######################################### Liking #########################################\n",
      "Accuracy 63.0\n",
      "K value = 45\n",
      "######################################### Valence #########################################\n",
      "Accuracy 50.0\n",
      "######################################### Arousal #########################################\n",
      "Accuracy 54.75\n",
      "######################################### Dominance #########################################\n",
      "Accuracy 64.75\n",
      "######################################### Liking #########################################\n",
      "Accuracy 62.74999999999999\n",
      "K value = 46\n",
      "######################################### Valence #########################################\n",
      "Accuracy 50.74999999999999\n",
      "######################################### Arousal #########################################\n",
      "Accuracy 54.25\n",
      "######################################### Dominance #########################################\n",
      "Accuracy 63.0\n",
      "######################################### Liking #########################################\n",
      "Accuracy 62.5\n",
      "K value = 47\n",
      "######################################### Valence #########################################\n",
      "Accuracy 51.5\n",
      "######################################### Arousal #########################################\n",
      "Accuracy 54.75\n",
      "######################################### Dominance #########################################\n",
      "Accuracy 67.25\n",
      "######################################### Liking #########################################\n",
      "Accuracy 62.25000000000001\n",
      "K value = 48\n",
      "######################################### Valence #########################################\n",
      "Accuracy 52.5\n",
      "######################################### Arousal #########################################\n",
      "Accuracy 55.25\n",
      "######################################### Dominance #########################################\n",
      "Accuracy 64.25\n",
      "######################################### Liking #########################################\n",
      "Accuracy 62.5\n",
      "K value = 49\n",
      "######################################### Valence #########################################\n",
      "Accuracy 52.0\n",
      "######################################### Arousal #########################################\n",
      "Accuracy 54.75\n",
      "######################################### Dominance #########################################\n",
      "Accuracy 66.75\n",
      "######################################### Liking #########################################\n",
      "Accuracy 62.25000000000001\n"
     ]
    }
   ],
   "source": [
    "trainlabel_list = [y_train_va2, y_train_ar2, y_train_do2, y_train_li2]\n",
    "testlabel_list = [y_test_va, y_test_ar, y_test_do, y_test_li]\n",
    "names = [\"Valence\",\"Arousal\",\"Dominance\",\"Liking\"]\n",
    "scorelist = []\n",
    "scores = []\n",
    "\n",
    "for k in range(1,50):\n",
    "  print(\"K value =\",k)\n",
    "  for traain,tesst,name in zip(trainlabel_list,testlabel_list,names):\n",
    "    print(\"#########################################\",name,\"#########################################\")\n",
    "    # before x22\n",
    "    sc = knnmodel2(x_2_003.reshape(-1, 40*99),traain,test.reshape(-1, 40*99),tesst,kval = k)\n",
    "    scorelist.append((sc,k))\n",
    "    scores.append(sc)\n",
    "  \n",
    "max_va = (0,0)\n",
    "max_ar = (0,0)\n",
    "max_do = (0,0)\n",
    "max_li = (0,0)\n",
    "j = 0\n",
    "for i in range(int(len(scorelist)/4)):\n",
    "    if scorelist[j][0] > max_va[0]:\n",
    "        max_va = scorelist[j]\n",
    "    if scorelist[j+1][0] > max_ar[0]:\n",
    "        max_ar = scorelist[j+1]\n",
    "    if scorelist[j+2][0] > max_do[0]:\n",
    "        max_do = scorelist[j+2]\n",
    "    if scorelist[j+3][0] > max_li[0]:\n",
    "        max_li = scorelist[j+3]\n",
    "    j = j+4\n"
   ]
  },
  {
   "cell_type": "code",
   "execution_count": null,
   "id": "64dee3ac",
   "metadata": {},
   "outputs": [],
   "source": [
    "len(scorelist)"
   ]
  },
  {
   "cell_type": "code",
   "execution_count": 85,
   "id": "ca7e76fc",
   "metadata": {},
   "outputs": [
    {
     "name": "stdout",
     "output_type": "stream",
     "text": [
      "(54.50000000000001, 31)\n",
      "(55.50000000000001, 15)\n",
      "(67.25, 47)\n",
      "(64.0, 24)\n"
     ]
    }
   ],
   "source": [
    "print(max_va)\n",
    "print(max_ar)\n",
    "print(max_do)\n",
    "print(max_li)"
   ]
  },
  {
   "cell_type": "code",
   "execution_count": null,
   "id": "4bccdebd",
   "metadata": {},
   "outputs": [],
   "source": [
    "np.max(scores)"
   ]
  },
  {
   "cell_type": "code",
   "execution_count": null,
   "id": "e18084bd",
   "metadata": {},
   "outputs": [],
   "source": [
    "np.array_equal(score,scores)"
   ]
  },
  {
   "cell_type": "code",
   "execution_count": null,
   "id": "176c2b10",
   "metadata": {},
   "outputs": [],
   "source": [
    "scorelist = [(15,0),(8,0),(88,0),(40,9),\n",
    "             (5,6),(67,9),(7,6),(23,0),\n",
    "             (12,2),(3,1),(5,3),(78,8)]\n",
    "max_va = (0,0)\n",
    "max_ar = (0,0)\n",
    "max_do = (0,0)\n",
    "max_li = (0,0)\n",
    "j = 0\n",
    "for i in range(int(len(scorelist)/4)):\n",
    "    if scorelist[j][0] > max_va[0]:\n",
    "        max_va = scorelist[j]\n",
    "    if scorelist[j+1][0] > max_ar[0]:\n",
    "        max_ar = scorelist[j+1]\n",
    "    if scorelist[j+2][0] > max_do[0]:\n",
    "        max_do = scorelist[j+2]\n",
    "    if scorelist[j+3][0] > max_li[0]:\n",
    "        max_li = scorelist[j+3]\n",
    "    j = j+4"
   ]
  },
  {
   "cell_type": "markdown",
   "id": "4a50593e",
   "metadata": {},
   "source": [
    "## SVM"
   ]
  },
  {
   "cell_type": "code",
   "execution_count": 27,
   "id": "350976d9",
   "metadata": {},
   "outputs": [],
   "source": [
    "# Define SVM based model for augmented data\n",
    "def svmmodel(xtrain,ytrain,xtest,ytest,c,kernel = 'linear'):\n",
    "\n",
    "  # SVM model\n",
    "\n",
    "  model = SVC(C=c,kernel=kernel,gamma = 'auto')\n",
    "  model.fit(xtrain, ytrain)\n",
    "  y_pred = model.predict(xtest)\n",
    "\n",
    "  # print(\"Accuracy score for fold\",fold_no)\n",
    "  acc = accuracy_score(ytest, y_pred)*100\n",
    "  acc = round(acc, 4)\n",
    "  print(\"Accuracy\",acc)\n",
    "  # print(classification_report(ytest, y_pred))\n",
    "  # print(confusion_matrix(ytest,y_pred))\n",
    "  # return acc,xtrain, xtest, ytrain, ytest\n",
    "  return acc"
   ]
  },
  {
   "cell_type": "code",
   "execution_count": 28,
   "id": "72b11151",
   "metadata": {},
   "outputs": [
    {
     "name": "stdout",
     "output_type": "stream",
     "text": [
      "\n",
      "\n",
      "C value = 0.0001\n",
      "######################################### Valence #########################################\n",
      "Accuracy 59.25\n",
      "######################################### Arousal #########################################\n",
      "Accuracy 56.0\n",
      "######################################### Dominance #########################################\n",
      "Accuracy 73.0\n",
      "######################################### Liking #########################################\n",
      "Accuracy 62.5\n",
      "\n",
      "\n",
      "C value = 0.001\n",
      "######################################### Valence #########################################\n",
      "Accuracy 56.75\n",
      "######################################### Arousal #########################################\n",
      "Accuracy 56.0\n",
      "######################################### Dominance #########################################\n",
      "Accuracy 72.75\n",
      "######################################### Liking #########################################\n",
      "Accuracy 62.5\n",
      "\n",
      "\n",
      "C value = 0.01\n",
      "######################################### Valence #########################################\n",
      "Accuracy 52.25\n",
      "######################################### Arousal #########################################\n",
      "Accuracy 54.75\n",
      "######################################### Dominance #########################################\n",
      "Accuracy 54.5\n",
      "######################################### Liking #########################################\n",
      "Accuracy 60.5\n",
      "\n",
      "\n",
      "C value = 0.1\n",
      "######################################### Valence #########################################\n",
      "Accuracy 56.5\n",
      "######################################### Arousal #########################################\n",
      "Accuracy 53.75\n",
      "######################################### Dominance #########################################\n",
      "Accuracy 55.25\n",
      "######################################### Liking #########################################\n",
      "Accuracy 52.5\n",
      "\n",
      "\n",
      "C value = 1\n",
      "######################################### Valence #########################################\n",
      "Accuracy 56.0\n",
      "######################################### Arousal #########################################\n",
      "Accuracy 53.5\n",
      "######################################### Dominance #########################################\n",
      "Accuracy 54.75\n",
      "######################################### Liking #########################################\n",
      "Accuracy 52.5\n",
      "\n",
      "\n",
      "C value = 10\n",
      "######################################### Valence #########################################\n",
      "Accuracy 56.0\n",
      "######################################### Arousal #########################################\n",
      "Accuracy 53.5\n",
      "######################################### Dominance #########################################\n",
      "Accuracy 54.75\n",
      "######################################### Liking #########################################\n",
      "Accuracy 52.5\n",
      "\n",
      "\n",
      "C value = 100\n",
      "######################################### Valence #########################################\n",
      "Accuracy 56.0\n",
      "######################################### Arousal #########################################\n",
      "Accuracy 53.5\n",
      "######################################### Dominance #########################################\n",
      "Accuracy 54.75\n",
      "######################################### Liking #########################################\n",
      "Accuracy 52.5\n"
     ]
    }
   ],
   "source": [
    "# Using actual data\n",
    "trainlabel_list = [y_train_va, y_train_ar, y_train_do, y_train_li]\n",
    "testlabel_list = [y_test_va, y_test_ar, y_test_do, y_test_li]\n",
    "names = [\"Valence\",\"Arousal\",\"Dominance\",\"Liking\"]\n",
    "scorelist = []\n",
    "cval = [0.0001,0.001,0.01,0.1,1,10,100]\n",
    "\n",
    "for c in cval:\n",
    "  print(\"\\n\")\n",
    "  print(\"C value =\",c)\n",
    "  for traain,tesst,name in zip(trainlabel_list,testlabel_list,names):\n",
    "    print(\"#########################################\",name,\"#########################################\")\n",
    "    sc = svmmodel(train.reshape(-1, 40*99),traain,test.reshape(-1, 40*99),tesst,c = c)\n",
    "    scorelist.append(sc)"
   ]
  },
  {
   "cell_type": "markdown",
   "id": "286ca7f7",
   "metadata": {},
   "source": [
    "Best results <br>\n",
    "Accuracy of  Valence 59.25 <br>\n",
    "Accuracy of  Arousal 56.00 <br>\n",
    "Accuracy of  Dominance 73.0 <br>\n",
    "Accuracy of  Liking 62.5 <br>"
   ]
  },
  {
   "cell_type": "markdown",
   "id": "1c432f8f",
   "metadata": {},
   "source": [
    "### 2X Data"
   ]
  },
  {
   "cell_type": "code",
   "execution_count": 86,
   "id": "223a2784",
   "metadata": {},
   "outputs": [
    {
     "name": "stdout",
     "output_type": "stream",
     "text": [
      "\n",
      "\n",
      "C value = 0.0001\n",
      "######################################### Valence #########################################\n",
      "Accuracy 59.25\n",
      "######################################### Arousal #########################################\n",
      "Accuracy 56.0\n",
      "######################################### Dominance #########################################\n",
      "Accuracy 73.0\n",
      "######################################### Liking #########################################\n",
      "Accuracy 62.5\n",
      "\n",
      "\n",
      "C value = 0.001\n",
      "######################################### Valence #########################################\n",
      "Accuracy 56.25\n",
      "######################################### Arousal #########################################\n",
      "Accuracy 56.0\n",
      "######################################### Dominance #########################################\n",
      "Accuracy 73.0\n",
      "######################################### Liking #########################################\n",
      "Accuracy 62.5\n",
      "\n",
      "\n",
      "C value = 0.01\n",
      "######################################### Valence #########################################\n",
      "Accuracy 53.25\n",
      "######################################### Arousal #########################################\n",
      "Accuracy 51.25\n",
      "######################################### Dominance #########################################\n",
      "Accuracy 60.0\n",
      "######################################### Liking #########################################\n",
      "Accuracy 62.25\n",
      "\n",
      "\n",
      "C value = 0.1\n",
      "######################################### Valence #########################################\n",
      "Accuracy 50.25\n",
      "######################################### Arousal #########################################\n",
      "Accuracy 51.75\n",
      "######################################### Dominance #########################################\n",
      "Accuracy 57.75\n",
      "######################################### Liking #########################################\n",
      "Accuracy 53.25\n",
      "\n",
      "\n",
      "C value = 1\n",
      "######################################### Valence #########################################\n",
      "Accuracy 50.75\n",
      "######################################### Arousal #########################################\n",
      "Accuracy 51.75\n",
      "######################################### Dominance #########################################\n",
      "Accuracy 56.0\n",
      "######################################### Liking #########################################\n",
      "Accuracy 52.25\n",
      "\n",
      "\n",
      "C value = 10\n",
      "######################################### Valence #########################################\n",
      "Accuracy 50.75\n",
      "######################################### Arousal #########################################\n",
      "Accuracy 51.75\n",
      "######################################### Dominance #########################################\n",
      "Accuracy 56.0\n",
      "######################################### Liking #########################################\n",
      "Accuracy 52.25\n",
      "\n",
      "\n",
      "C value = 100\n",
      "######################################### Valence #########################################\n",
      "Accuracy 50.75\n",
      "######################################### Arousal #########################################\n",
      "Accuracy 51.75\n",
      "######################################### Dominance #########################################\n",
      "Accuracy 56.0\n",
      "######################################### Liking #########################################\n",
      "Accuracy 52.25\n"
     ]
    }
   ],
   "source": [
    "# Using 2X data\n",
    "trainlabel_list = [y_train_va2, y_train_ar2, y_train_do2, y_train_li2]\n",
    "testlabel_list = [y_test_va, y_test_ar, y_test_do, y_test_li]\n",
    "names = [\"Valence\",\"Arousal\",\"Dominance\",\"Liking\"]\n",
    "scorelist = []\n",
    "cval = [0.0001,0.001,0.01,0.1,1,10,100]\n",
    "\n",
    "for c in cval:\n",
    "  print(\"\\n\")\n",
    "  print(\"C value =\",c)\n",
    "  for traain,tesst,name in zip(trainlabel_list,testlabel_list,names):\n",
    "    print(\"#########################################\",name,\"#########################################\")\n",
    "    sc = svmmodel(x_2_003.reshape(-1, 40*99),traain,test.reshape(-1, 40*99),tesst,c = c)\n",
    "    scorelist.append(sc)"
   ]
  },
  {
   "cell_type": "markdown",
   "id": "bed08b43",
   "metadata": {},
   "source": [
    "Best results <br>\n",
    "Accuracy of  Valence 59.25 <br>\n",
    "Accuracy of  Arousal 60.00 <br>\n",
    "Accuracy of  Dominance 73.25 <br>\n",
    "Accuracy of  Liking 62.5 <br>"
   ]
  },
  {
   "cell_type": "markdown",
   "id": "742ca999",
   "metadata": {},
   "source": [
    "### Neural Network"
   ]
  },
  {
   "cell_type": "code",
   "execution_count": 30,
   "id": "90ad7f10",
   "metadata": {},
   "outputs": [],
   "source": [
    "# Split the data into training/testing sets\n",
    "def deepmodel(modelnum,xtrain,ytrain,xtest,ytest,nepochs,batch_size):\n",
    "  # ()\n",
    "  \n",
    "  ytrain = to_categorical(ytrain)\n",
    "  ytest = to_categorical(ytest)\n",
    "\n",
    "\n",
    "\n",
    "  input_shape = (40, 99, 1)\n",
    "  # print(xtrain.shape,xtest.shape)\n",
    "  xtrain = np.reshape(xtrain,[-1, 40, 99, 1])\n",
    "  xtest = np.reshape(xtest,[-1, 40, 99, 1])\n",
    "  print(\"xtrain.shape,ytrain.shape\")\n",
    "  print(xtrain.shape,ytrain.shape)\n",
    "  if modelnum == 1:\n",
    "  # Model 1\n",
    "    model = Sequential()\n",
    "    model.add(Conv2D(32, kernel_size=(3, 3), activation='relu', input_shape=input_shape))\n",
    "    model.add(MaxPooling2D(pool_size=(2, 2)))\n",
    "    model.add(Conv2D(64, kernel_size=(3, 3), activation='relu'))\n",
    "    model.add(MaxPooling2D(pool_size=(2, 2)))\n",
    "    model.add(Flatten())\n",
    "    model.add(Dense(256, activation='relu'))\n",
    "    model.add(Dense(128, activation='relu'))\n",
    "    model.add(Dense(2, activation='softmax'))\n",
    "    # model.add(Dense(1, activation='sigmoid'))\n",
    "  elif modelnum == 2:\n",
    "    # Resnet kind of model\n",
    "\n",
    "    def conv_bn_relu(x, filters, kernel_size, strides):\n",
    "        x = Conv2D(filters=filters,\n",
    "                  kernel_size=kernel_size,\n",
    "                  strides=strides,\n",
    "                  padding='same')(x)\n",
    "        x = BatchNormalization()(x)\n",
    "        x = ReLU()(x)\n",
    "        return x\n",
    "\n",
    "\n",
    "    def identity_block(tensor, filters):\n",
    "        x = conv_bn_relu(tensor, filters=filters, kernel_size=1, strides=1)\n",
    "        x = conv_bn_relu(x, filters=filters, kernel_size=3, strides=1)\n",
    "        x = Conv2D(filters=4*filters, kernel_size=1, strides=1)(x)  # notice: filters=4*filters\n",
    "        x = BatchNormalization()(x)\n",
    "\n",
    "        x = Add()([x, tensor])\n",
    "        x = ReLU()(x)\n",
    "        return x\n",
    "\n",
    "\n",
    "    def projection_block(tensor, filters, strides):\n",
    "        # left branch\n",
    "        x = conv_bn_relu(tensor, filters=filters, kernel_size=1, strides=1)\n",
    "        x = conv_bn_relu(x, filters=filters, kernel_size=3, strides=strides)\n",
    "        x = Conv2D(filters=4*filters, kernel_size=1, strides=1)(x)  # notice: filters=4*filters\n",
    "        x = BatchNormalization()(x)\n",
    "\n",
    "        # right branch\n",
    "        shortcut = Conv2D(filters=4*filters, kernel_size=1, strides=strides)(tensor)  # notice: filters=4*filters\n",
    "        shortcut = BatchNormalization()(shortcut)\n",
    "\n",
    "        x = Add()([x, shortcut])\n",
    "        x = ReLU()(x)\n",
    "        return x\n",
    "\n",
    "\n",
    "    def resnet_block(x, filters, reps, strides):\n",
    "        x = projection_block(x, filters=filters, strides=strides)\n",
    "        for _ in range(reps-1):  # the -1 is because the first block was a Conv one\n",
    "            x = identity_block(x, filters=filters)\n",
    "        return x\n",
    "\n",
    "\n",
    "    input = Input(shape=(40, 99, 1))\n",
    "\n",
    "    x = conv_bn_relu(input, filters=64, kernel_size=7, strides=2)  # [3]: 7x7, 64, strides 2\n",
    "    x = MaxPool2D(pool_size=3, strides=2, padding='same')(x)  # [3]: 3x3 max mool, strides 2\n",
    "\n",
    "    x = resnet_block(x, filters=64, reps=3, strides=1)\n",
    "    x = resnet_block(x, filters=128, reps=4, strides=2)  # s=2 ([2]: conv3_1)\n",
    "    x = resnet_block(x, filters=256, reps=6, strides=2)  # s=2 ([2]: conv4_1)\n",
    "    x = resnet_block(x, filters=512, reps=3, strides=2)  # s=2 ([2]: conv5_1)\n",
    "\n",
    "    x = GlobalAvgPool2D()(x)  # [3]: average pool *it is not written any pool size so we use Global\n",
    "\n",
    "    # # output = Dense(1, activation='sigmoid')(x)\n",
    "    output = Dense(2, activation='softmax')(x)\n",
    "    model = Model(input, output)\n",
    "\n",
    "\n",
    "\n",
    "  model.compile(loss= 'categorical_crossentropy',#'binary_crossentropy','categorical_crossentropy'\n",
    "                    optimizer=Adam(),\n",
    "                    metrics=['accuracy'])\n",
    "  # Fit data to model\n",
    "  history = model.fit(xtrain,ytrain ,\n",
    "            batch_size = batch_size,\n",
    "            epochs=nepochs,\n",
    "            verbose=1)\n",
    "\n",
    "  # Generate generalization metrics\n",
    "  scores = model.evaluate(xtest, ytest, verbose=0)#verbose =1 \n",
    "  y_pred = model.predict(xtest)\n",
    "  #     print(\"Fold number\",fold_no)\n",
    "  acc = scores[1]*100\n",
    "  acc = round(acc, 4)\n",
    "  print(\"Accuracy\",acc)\n",
    "  print(\"Loss\",scores[0])\n",
    "  # print(classification_report(ytest.argmax(axis=1), y_pred.argmax(axis=1)))\n",
    "  # print(confusion_matrix(ytest.argmax(axis=1), y_pred.argmax(axis=1)))\n",
    "  return acc"
   ]
  },
  {
   "cell_type": "markdown",
   "id": "eca2cfce",
   "metadata": {},
   "source": [
    "## Normal Data"
   ]
  },
  {
   "cell_type": "code",
   "execution_count": 31,
   "id": "de29caa7",
   "metadata": {},
   "outputs": [
    {
     "name": "stdout",
     "output_type": "stream",
     "text": [
      "######################################### Valence #########################################\n",
      "xtrain.shape,ytrain.shape\n",
      "(880, 40, 99, 1) (880, 2)\n"
     ]
    },
    {
     "name": "stderr",
     "output_type": "stream",
     "text": [
      "2023-05-04 11:26:43.655835: I tensorflow/core/platform/cpu_feature_guard.cc:193] This TensorFlow binary is optimized with oneAPI Deep Neural Network Library (oneDNN) to use the following CPU instructions in performance-critical operations:  AVX2 FMA\n",
      "To enable them in other operations, rebuild TensorFlow with the appropriate compiler flags.\n"
     ]
    },
    {
     "name": "stdout",
     "output_type": "stream",
     "text": [
      "Epoch 1/5\n",
      "28/28 [==============================] - 3s 59ms/step - loss: 0.6991 - accuracy: 0.5205\n",
      "Epoch 2/5\n",
      "28/28 [==============================] - 2s 56ms/step - loss: 0.6911 - accuracy: 0.5375\n",
      "Epoch 3/5\n",
      "28/28 [==============================] - 2s 57ms/step - loss: 0.6779 - accuracy: 0.5636\n",
      "Epoch 4/5\n",
      "28/28 [==============================] - 2s 61ms/step - loss: 0.6922 - accuracy: 0.5648\n",
      "Epoch 5/5\n",
      "28/28 [==============================] - 2s 65ms/step - loss: 0.6632 - accuracy: 0.6125\n",
      "13/13 [==============================] - 0s 16ms/step\n",
      "Accuracy 60.0\n",
      "Loss 0.6762844324111938\n",
      "######################################### Arousal #########################################\n",
      "xtrain.shape,ytrain.shape\n",
      "(880, 40, 99, 1) (880, 2)\n",
      "Epoch 1/5\n",
      "28/28 [==============================] - 3s 61ms/step - loss: 0.7178 - accuracy: 0.5705\n",
      "Epoch 2/5\n",
      "28/28 [==============================] - 2s 61ms/step - loss: 0.6842 - accuracy: 0.5830\n",
      "Epoch 3/5\n",
      "28/28 [==============================] - 2s 62ms/step - loss: 0.6825 - accuracy: 0.5830\n",
      "Epoch 4/5\n",
      "28/28 [==============================] - 2s 62ms/step - loss: 0.6706 - accuracy: 0.5830\n",
      "Epoch 5/5\n",
      "28/28 [==============================] - 2s 63ms/step - loss: 0.6462 - accuracy: 0.6330\n",
      "13/13 [==============================] - 0s 17ms/step\n",
      "Accuracy 49.75\n",
      "Loss 0.702867329120636\n",
      "######################################### Dominance #########################################\n",
      "xtrain.shape,ytrain.shape\n",
      "(880, 40, 99, 1) (880, 2)\n",
      "Epoch 1/5\n",
      "28/28 [==============================] - 3s 65ms/step - loss: 0.7045 - accuracy: 0.5136\n",
      "Epoch 2/5\n",
      "28/28 [==============================] - 2s 62ms/step - loss: 0.6896 - accuracy: 0.5545\n",
      "Epoch 3/5\n",
      "28/28 [==============================] - 2s 59ms/step - loss: 0.6870 - accuracy: 0.5545\n",
      "Epoch 4/5\n",
      "28/28 [==============================] - 2s 59ms/step - loss: 0.6884 - accuracy: 0.5739\n",
      "Epoch 5/5\n",
      "28/28 [==============================] - 2s 61ms/step - loss: 0.6911 - accuracy: 0.5523\n",
      "13/13 [==============================] - 0s 18ms/step\n",
      "Accuracy 73.0\n",
      "Loss 0.6554614305496216\n",
      "######################################### Liking #########################################\n",
      "xtrain.shape,ytrain.shape\n",
      "(880, 40, 99, 1) (880, 2)\n",
      "Epoch 1/5\n",
      "28/28 [==============================] - 3s 63ms/step - loss: 0.6381 - accuracy: 0.6739\n",
      "Epoch 2/5\n",
      "28/28 [==============================] - 2s 64ms/step - loss: 0.6277 - accuracy: 0.6830\n",
      "Epoch 3/5\n",
      "28/28 [==============================] - 2s 64ms/step - loss: 0.6306 - accuracy: 0.6830\n",
      "Epoch 4/5\n",
      "28/28 [==============================] - 2s 64ms/step - loss: 0.6292 - accuracy: 0.6830\n",
      "Epoch 5/5\n",
      "28/28 [==============================] - 2s 64ms/step - loss: 0.6032 - accuracy: 0.6830\n",
      "13/13 [==============================] - 0s 19ms/step\n",
      "Accuracy 62.5\n",
      "Loss 0.6876474022865295\n"
     ]
    }
   ],
   "source": [
    "# Using original data\n",
    "trainlabel_list = [y_train_va, y_train_ar, y_train_do, y_train_li]\n",
    "testlabel_list = [y_test_va, y_test_ar, y_test_do, y_test_li]\n",
    "names = [\"Valence\",\"Arousal\",\"Dominance\",\"Liking\"]\n",
    "scorelist = []\n",
    "eps = 5 # epochs\n",
    "bs = 32 # batch size\n",
    "div = 2\n",
    "# modelnum,xtrain,ytrain,xtest,ytest,nepochs,batch_size\n",
    "\n",
    "for traain,tesst,name in zip(trainlabel_list,testlabel_list,names):\n",
    "  print(\"#########################################\",name,\"#########################################\")\n",
    "  sc = deepmodel(1,train.reshape(-1, 40,99),traain,test.reshape(-1, 40,99),tesst,nepochs=eps,batch_size=bs)\n",
    "  scorelist.append(sc)"
   ]
  },
  {
   "cell_type": "markdown",
   "id": "dda86b42",
   "metadata": {},
   "source": [
    "Best results <br>\n",
    "Accuracy of  Valence 44.75 <br>\n",
    "Accuracy of  Arousal 54.00 <br>\n",
    "Accuracy of  Dominance 54.00 <br>\n",
    "Accuracy of  Liking 62.5 <br>"
   ]
  },
  {
   "cell_type": "markdown",
   "id": "52e3f8cd",
   "metadata": {},
   "source": [
    "### 2x Data"
   ]
  },
  {
   "cell_type": "code",
   "execution_count": 87,
   "id": "3edb8d51",
   "metadata": {},
   "outputs": [
    {
     "name": "stdout",
     "output_type": "stream",
     "text": [
      "######################################### Valence #########################################\n",
      "xtrain.shape,ytrain.shape\n",
      "(1760, 40, 99, 1) (1760, 2)\n",
      "Epoch 1/5\n",
      "55/55 [==============================] - 5s 56ms/step - loss: 0.6994 - accuracy: 0.5244\n",
      "Epoch 2/5\n",
      "55/55 [==============================] - 3s 55ms/step - loss: 0.6903 - accuracy: 0.5352\n",
      "Epoch 3/5\n",
      "55/55 [==============================] - 3s 54ms/step - loss: 0.6887 - accuracy: 0.5364\n",
      "Epoch 4/5\n",
      "55/55 [==============================] - 3s 54ms/step - loss: 0.6855 - accuracy: 0.5489\n",
      "Epoch 5/5\n",
      "55/55 [==============================] - 3s 57ms/step - loss: 0.6815 - accuracy: 0.5716\n",
      "13/13 [==============================] - 0s 14ms/step\n",
      "Accuracy 51.25\n",
      "Loss 0.6971634030342102\n",
      "######################################### Arousal #########################################\n",
      "xtrain.shape,ytrain.shape\n",
      "(1760, 40, 99, 1) (1760, 2)\n",
      "Epoch 1/5\n",
      "55/55 [==============================] - 4s 53ms/step - loss: 0.7042 - accuracy: 0.5659\n",
      "Epoch 2/5\n",
      "55/55 [==============================] - 3s 53ms/step - loss: 0.6826 - accuracy: 0.5830\n",
      "Epoch 3/5\n",
      "55/55 [==============================] - 3s 54ms/step - loss: 0.6806 - accuracy: 0.5830\n",
      "Epoch 4/5\n",
      "55/55 [==============================] - 3s 54ms/step - loss: 0.6766 - accuracy: 0.5778\n",
      "Epoch 5/5\n",
      "55/55 [==============================] - 3s 53ms/step - loss: 0.6633 - accuracy: 0.5830\n",
      "13/13 [==============================] - 0s 12ms/step\n",
      "Accuracy 56.0\n",
      "Loss 0.6975588202476501\n",
      "######################################### Dominance #########################################\n",
      "xtrain.shape,ytrain.shape\n",
      "(1760, 40, 99, 1) (1760, 2)\n",
      "Epoch 1/5\n",
      "55/55 [==============================] - 5s 55ms/step - loss: 0.7038 - accuracy: 0.5443\n",
      "Epoch 2/5\n",
      "55/55 [==============================] - 3s 55ms/step - loss: 0.6857 - accuracy: 0.5545\n",
      "Epoch 3/5\n",
      "55/55 [==============================] - 3s 55ms/step - loss: 0.6878 - accuracy: 0.5506\n",
      "Epoch 4/5\n",
      "55/55 [==============================] - 3s 55ms/step - loss: 0.6860 - accuracy: 0.5574\n",
      "Epoch 5/5\n",
      "55/55 [==============================] - 3s 55ms/step - loss: 0.6864 - accuracy: 0.5534\n",
      "13/13 [==============================] - 0s 13ms/step\n",
      "Accuracy 69.0\n",
      "Loss 0.6716753244400024\n",
      "######################################### Liking #########################################\n",
      "xtrain.shape,ytrain.shape\n",
      "(1760, 40, 99, 1) (1760, 2)\n",
      "Epoch 1/5\n",
      "55/55 [==============================] - 4s 55ms/step - loss: 0.6497 - accuracy: 0.6659\n",
      "Epoch 2/5\n",
      "55/55 [==============================] - 3s 53ms/step - loss: 0.6265 - accuracy: 0.6830\n",
      "Epoch 3/5\n",
      "55/55 [==============================] - 3s 54ms/step - loss: 0.6306 - accuracy: 0.6830\n",
      "Epoch 4/5\n",
      "55/55 [==============================] - 3s 54ms/step - loss: 0.6283 - accuracy: 0.6830\n",
      "Epoch 5/5\n",
      "55/55 [==============================] - 3s 53ms/step - loss: 0.6236 - accuracy: 0.6830\n",
      "13/13 [==============================] - 0s 12ms/step\n",
      "Accuracy 62.5\n",
      "Loss 0.6666281223297119\n"
     ]
    }
   ],
   "source": [
    "# Using 2x data\n",
    "trainlabel_list = [y_train_va2, y_train_ar2, y_train_do2, y_train_li2]\n",
    "testlabel_list = [y_test_va, y_test_ar, y_test_do, y_test_li]\n",
    "names = [\"Valence\",\"Arousal\",\"Dominance\",\"Liking\"]\n",
    "scorelist = []\n",
    "eps = 5 # epochs\n",
    "bs = 32 # batch size\n",
    "div = 2\n",
    "# modelnum,xtrain,ytrain,xtest,ytest,nepochs,batch_size\n",
    "\n",
    "for traain,tesst,name in zip(trainlabel_list,testlabel_list,names):\n",
    "  print(\"#########################################\",name,\"#########################################\")\n",
    "  sc = deepmodel(1,x_2_003.reshape(-1, 40,99),traain,test.reshape(-1, 40,99),tesst,nepochs=eps,batch_size=bs)\n",
    "  scorelist.append(sc)"
   ]
  },
  {
   "cell_type": "markdown",
   "id": "11f047f7",
   "metadata": {},
   "source": [
    "Best results <br>\n",
    "Accuracy of  Valence 59.25 <br>\n",
    "Accuracy of  Arousal 56.00 <br>\n",
    "Accuracy of  Dominance 73.00 <br>\n",
    "Accuracy of  Liking 62.5 <br>"
   ]
  },
  {
   "cell_type": "code",
   "execution_count": null,
   "id": "3933323e",
   "metadata": {},
   "outputs": [],
   "source": []
  }
 ],
 "metadata": {
  "kernelspec": {
   "display_name": "Python 3 (ipykernel)",
   "language": "python",
   "name": "python3"
  },
  "language_info": {
   "codemirror_mode": {
    "name": "ipython",
    "version": 3
   },
   "file_extension": ".py",
   "mimetype": "text/x-python",
   "name": "python",
   "nbconvert_exporter": "python",
   "pygments_lexer": "ipython3",
   "version": "3.10.9"
  }
 },
 "nbformat": 4,
 "nbformat_minor": 5
}
