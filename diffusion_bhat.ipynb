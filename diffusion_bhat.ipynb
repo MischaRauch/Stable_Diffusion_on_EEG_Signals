{
 "cells": [
  {
   "cell_type": "code",
   "execution_count": 1,
   "id": "940c8aba",
   "metadata": {},
   "outputs": [],
   "source": [
    "import torch\n",
    "#from denoising_diffusion_pytorch import Unet, GaussianDiffusion\n",
    "#from denoising_diffusion_pytorch import Unet1D, GaussianDiffusion1D\n",
    "from denoising_diffusion_pytorch import *\n",
    "import numpy as np\n",
    "import matplotlib.pyplot as plt\n",
    "#from scipy.stats import skew,kurtosis"
   ]
  },
  {
   "cell_type": "code",
   "execution_count": null,
   "id": "abcdcf17",
   "metadata": {},
   "outputs": [],
   "source": [
    "pip install torch torchvision numpy matplotlib einops ema_pytorch accelerate pytorch_fid"
   ]
  },
  {
   "cell_type": "markdown",
   "id": "ea443434-8f88-4dd4-bcb2-23ab471445a6",
   "metadata": {},
   "source": [
    "## Load the data"
   ]
  },
  {
   "cell_type": "code",
   "execution_count": 2,
   "id": "0d09d03b",
   "metadata": {},
   "outputs": [],
   "source": [
    "num_testsub = 32\n",
    "num_classes = 4\n",
    "num_channel = 40\n",
    "num_datapoints = 8064\n",
    "num_trials = 40\n",
    "sampling_rate = 128 # 128Hz as given in the data\n",
    "\n",
    "def loadfiles_normalized():\n",
    "    data_dict = {}\n",
    "    print(\"Loading files into data_dict .................\")\n",
    "    for i in range(num_testsub):\n",
    "                    if i < 10:\n",
    "                        name = '%0*d' % (2,i+1)\n",
    "                    else:\n",
    "                        name = i+1\n",
    "                    fname = 'data/data_prepared/data_norm_bhat/noramlized_datasub'+str(name) +'.npy'\n",
    "                    data_dict[\"sub%s\" %name] = np.load(fname)    \n",
    "    print(\"Loaded!!!!!\") \n",
    "    return data_dict"
   ]
  },
  {
   "cell_type": "code",
   "execution_count": 3,
   "id": "8b1d4b93",
   "metadata": {},
   "outputs": [
    {
     "name": "stdout",
     "output_type": "stream",
     "text": [
      "Loading files into data_dict .................\n",
      "Loaded!!!!!\n"
     ]
    }
   ],
   "source": [
    "data = loadfiles_normalized()"
   ]
  },
  {
   "cell_type": "code",
   "execution_count": 4,
   "id": "94aa7888",
   "metadata": {},
   "outputs": [
    {
     "data": {
      "text/plain": [
       "(40, 40, 99)"
      ]
     },
     "execution_count": 4,
     "metadata": {},
     "output_type": "execute_result"
    }
   ],
   "source": [
    "# (40, 40, 99) (videonumber/trialnumber , channelnumber, datapoints)\n",
    "data['sub01'].shape"
   ]
  },
  {
   "cell_type": "code",
   "execution_count": 5,
   "id": "4b10e18b",
   "metadata": {},
   "outputs": [
    {
     "data": {
      "text/plain": [
       "(40, 99)"
      ]
     },
     "execution_count": 5,
     "metadata": {},
     "output_type": "execute_result"
    }
   ],
   "source": [
    "# matrix 1\n",
    "data['sub01'][0].shape"
   ]
  },
  {
   "cell_type": "code",
   "execution_count": 6,
   "id": "f30144e7",
   "metadata": {},
   "outputs": [],
   "source": [
    "matrix = np.zeros((1280,3,40,104))\n",
    "matrix[:] = np.nan\n",
    "counter = 0\n",
    "check = np.zeros((104,40))\n",
    "for sub in data.keys():\n",
    "    for i in range(data[sub][0].shape[0]):\n",
    "        temp = data[sub][i]\n",
    "#        print(temp.shape)\n",
    "#        temp = temp[: , :96]\n",
    "        # pad the array with a column of zeros\n",
    "        temp = np.pad(temp, ((0, 0), (0, 5)), mode='constant')\n",
    "        check = temp\n",
    "        matrix[counter, :] = temp\n",
    "        counter = counter + 1"
   ]
  },
  {
   "cell_type": "code",
   "execution_count": 7,
   "id": "ca34e79a",
   "metadata": {},
   "outputs": [
    {
     "data": {
      "text/plain": [
       "(1280, 3, 96, 40)"
      ]
     },
     "execution_count": 7,
     "metadata": {},
     "output_type": "execute_result"
    }
   ],
   "source": [
    "matrix.shape"
   ]
  },
  {
   "cell_type": "code",
   "execution_count": 8,
   "id": "563a5f72",
   "metadata": {},
   "outputs": [
    {
     "data": {
      "text/plain": [
       "False"
      ]
     },
     "execution_count": 8,
     "metadata": {},
     "output_type": "execute_result"
    }
   ],
   "source": [
    "np.isnan(matrix).any()"
   ]
  },
  {
   "cell_type": "code",
   "execution_count": 9,
   "id": "a2d50cf3",
   "metadata": {},
   "outputs": [
    {
     "data": {
      "text/plain": [
       "array([[0.29633097, 0.540126  , 0.55221434, ..., 0.34482342, 0.90617533,\n",
       "        0.35146873],\n",
       "       [0.5152931 , 0.55177657, 0.31579877, ..., 0.46382535, 0.94400325,\n",
       "        0.27318548],\n",
       "       [0.05009588, 0.        , 0.        , ..., 0.1260563 , 0.67083414,\n",
       "        0.20812183],\n",
       "       ...,\n",
       "       [0.85168198, 0.88137392, 0.91328749, ..., 0.88934937, 0.60875284,\n",
       "        0.75261257],\n",
       "       [0.23165782, 0.22880939, 0.18914166, ..., 0.05785734, 0.53919537,\n",
       "        0.1411673 ],\n",
       "       [0.19900799, 0.1860128 , 0.14288434, ..., 0.0123726 , 0.38281514,\n",
       "        0.04122104]])"
      ]
     },
     "execution_count": 9,
     "metadata": {},
     "output_type": "execute_result"
    }
   ],
   "source": [
    "matrix[0][0]"
   ]
  },
  {
   "cell_type": "code",
   "execution_count": 10,
   "id": "878dccdb-274c-4f4c-876b-06de9a8ff208",
   "metadata": {},
   "outputs": [],
   "source": [
    "tensor_matrix = torch.tensor(matrix).float()"
   ]
  },
  {
   "cell_type": "code",
   "execution_count": 11,
   "id": "2bb757be-b2ce-42a4-b512-b11c01462715",
   "metadata": {},
   "outputs": [
    {
     "data": {
      "text/plain": [
       "torch.Size([1280, 3, 96, 40])"
      ]
     },
     "execution_count": 11,
     "metadata": {},
     "output_type": "execute_result"
    }
   ],
   "source": [
    "tensor_matrix.shape"
   ]
  },
  {
   "cell_type": "code",
   "execution_count": 12,
   "id": "b9786174",
   "metadata": {},
   "outputs": [
    {
     "data": {
      "text/plain": [
       "99"
      ]
     },
     "execution_count": 12,
     "metadata": {},
     "output_type": "execute_result"
    }
   ],
   "source": [
    "image_size = (99,40)\n",
    "image_size[0]"
   ]
  },
  {
   "cell_type": "code",
   "execution_count": null,
   "id": "ef6509a7-f007-4e02-bcf6-a7b92256c079",
   "metadata": {},
   "outputs": [
    {
     "name": "stdout",
     "output_type": "stream",
     "text": [
      "HELLLO\n"
     ]
    }
   ],
   "source": [
    "model = Unet(\n",
    "    dim = 64,\n",
    "    dim_mults = (1, 2, 4, 8)\n",
    ")\n",
    "\n",
    "diffusion = GaussianDiffusion(\n",
    "    model,\n",
    "    image_size = (40,104),\n",
    "    timesteps = 1000,   # number of steps\n",
    "    loss_type = 'l1'    # L1 or L2\n",
    ")\n",
    "\n",
    "training_images = tensor_matrix # images are normalized from 0 to 1\n",
    "#training_images = torch.rand(8, 3, 96, 40) # images are normalized from 0 to 1\n",
    "loss = diffusion(training_images)\n",
    "loss.backward()\n",
    "# after a lot of training\n",
    "\n",
    "sampled_images = diffusion.sample(batch_size = 4)\n",
    "sampled_images.shape # (4, 3, 128, 128)"
   ]
  },
  {
   "cell_type": "code",
   "execution_count": null,
   "id": "2113fa07",
   "metadata": {},
   "outputs": [],
   "source": []
  }
 ],
 "metadata": {
  "kernelspec": {
   "display_name": "Python 3 (ipykernel)",
   "language": "python",
   "name": "python3"
  },
  "language_info": {
   "codemirror_mode": {
    "name": "ipython",
    "version": 3
   },
   "file_extension": ".py",
   "mimetype": "text/x-python",
   "name": "python",
   "nbconvert_exporter": "python",
   "pygments_lexer": "ipython3",
   "version": "3.10.9"
  }
 },
 "nbformat": 4,
 "nbformat_minor": 5
}
