{
 "cells": [
  {
   "cell_type": "code",
   "execution_count": 31,
   "id": "4f4fcdff",
   "metadata": {},
   "outputs": [],
   "source": [
    "from scipy.stats import ks_2samp\n",
    "import pandas as pd\n",
    "from scipy.stats import stats\n",
    "import numpy as np\n",
    "from scipy.stats import shapiro"
   ]
  },
  {
   "cell_type": "markdown",
   "id": "58ec1324",
   "metadata": {},
   "source": [
    "### For the results of a two sample t-test to be valid, the following assumptions should be met:\n",
    "- The observations in one sample should be independent of the observations in the other sample. **Given**\n",
    "- The data should be approximately normally distributed. **Will be tested**\n",
    "- The two samples should have approximately the same variance. If this assumption is not met, you should instead perform Welch’s t-test. **Will be tested**\n",
    "- The data in both samples was obtained using a random sampling method. **Given**"
   ]
  },
  {
   "cell_type": "markdown",
   "id": "762a0500",
   "metadata": {},
   "source": [
    "## Classification Results Real vs Synthetic"
   ]
  },
  {
   "cell_type": "markdown",
   "id": "9703897f",
   "metadata": {},
   "source": [
    "H0: The mean performance score on the real dataset is equal to the mean performance score on the synthetic dataset."
   ]
  },
  {
   "cell_type": "code",
   "execution_count": 79,
   "id": "ce6e39b2",
   "metadata": {},
   "outputs": [],
   "source": [
    "results_real = [47.1875,54.6875,51.40625,60.546875,52.65625,53.90625,56.015625,60.390625]\n",
    "results_synthetic = [47.890625,51.25,49.84375,64.375,50.859375,53.984375,55.078125,62.5]"
   ]
  },
  {
   "cell_type": "markdown",
   "id": "7a7320dd",
   "metadata": {},
   "source": [
    "### Test for normality \n",
    "If the P-Value of the Shapiro Wilk Test is larger than 0.05, we assume a normal distribution"
   ]
  },
  {
   "cell_type": "code",
   "execution_count": 76,
   "id": "702c74fe",
   "metadata": {},
   "outputs": [
    {
     "name": "stdout",
     "output_type": "stream",
     "text": [
      "ShapiroResult(statistic=0.95196932554245, pvalue=0.7310628294944763)\n",
      "ShapiroResult(statistic=0.8799775838851929, pvalue=0.18823620676994324)\n"
     ]
    }
   ],
   "source": [
    "print(shapiro(results_real))\n",
    "print(shapiro(results_synthetic))"
   ]
  },
  {
   "cell_type": "markdown",
   "id": "90b36fe5",
   "metadata": {},
   "source": [
    "### Test for same variance"
   ]
  },
  {
   "cell_type": "code",
   "execution_count": 80,
   "id": "ef16c4ef",
   "metadata": {},
   "outputs": [
    {
     "name": "stdout",
     "output_type": "stream",
     "text": [
      "17.539119720458984\n",
      "31.411361694335938\n"
     ]
    }
   ],
   "source": [
    "print(np.var(results_real))\n",
    "print(np.var(results_synthetic))"
   ]
  },
  {
   "cell_type": "markdown",
   "id": "7b7af631",
   "metadata": {},
   "source": [
    "Same variance is not given --> therefore a Welch's t-test is performed"
   ]
  },
  {
   "cell_type": "code",
   "execution_count": 78,
   "id": "e61a1d9f",
   "metadata": {},
   "outputs": [
    {
     "data": {
      "text/plain": [
       "Ttest_indResult(statistic=0.04800803518032314, pvalue=0.9624418239297778)"
      ]
     },
     "execution_count": 78,
     "metadata": {},
     "output_type": "execute_result"
    }
   ],
   "source": [
    "stats.ttest_ind(results_real, results_synthetic, equal_var = False)"
   ]
  },
  {
   "cell_type": "markdown",
   "id": "0e5583d8",
   "metadata": {},
   "source": [
    "Typically, a significance level (e.g., p < 0.05) is chosen, and if the p-value is below this threshold, it suggests a statistically significant difference in performance between the two conditions or models"
   ]
  },
  {
   "cell_type": "markdown",
   "id": "06db4da9",
   "metadata": {},
   "source": [
    "Since the pvalue is > 0.05 we have no reason to reject the H0 hypothesis."
   ]
  },
  {
   "cell_type": "markdown",
   "id": "61995374",
   "metadata": {},
   "source": [
    "## Classification results of the normal dataset and reduced set"
   ]
  },
  {
   "cell_type": "markdown",
   "id": "f09e6a13",
   "metadata": {},
   "source": [
    "H0: The mean performance score on the whole dataset is equal to the mean performance score on the reduced dataset"
   ]
  },
  {
   "cell_type": "code",
   "execution_count": 61,
   "id": "e3e28a25",
   "metadata": {},
   "outputs": [],
   "source": [
    "full = [78.25,65.50,67.50,75.50,78.75,63,73,75,76.75,64.50,67,75]\n",
    "reduced = [79.75,65,69.50,75,78.75,65,73,75,76.75,63,66.5,75]"
   ]
  },
  {
   "cell_type": "markdown",
   "id": "ff502442",
   "metadata": {},
   "source": [
    "### Test for normality \n",
    "If the P-Value of the Shapiro Wilk Test is larger than 0.05, we assume a normal distribution"
   ]
  },
  {
   "cell_type": "code",
   "execution_count": 77,
   "id": "429c1c1c",
   "metadata": {},
   "outputs": [
    {
     "name": "stdout",
     "output_type": "stream",
     "text": [
      "ShapiroResult(statistic=0.8896287679672241, pvalue=0.11654853075742722)\n",
      "ShapiroResult(statistic=0.9132462739944458, pvalue=0.23475410044193268)\n"
     ]
    }
   ],
   "source": [
    "print(shapiro(full))\n",
    "print(shapiro(reduced))"
   ]
  },
  {
   "cell_type": "markdown",
   "id": "ac9d2df4",
   "metadata": {},
   "source": [
    "### Test for same variance"
   ]
  },
  {
   "cell_type": "code",
   "execution_count": 66,
   "id": "9570bc12",
   "metadata": {},
   "outputs": [
    {
     "name": "stdout",
     "output_type": "stream",
     "text": [
      "30.14019097222223\n",
      "30.952690972222225\n"
     ]
    }
   ],
   "source": [
    "print(np.var(full))\n",
    "print(np.var(reduced))"
   ]
  },
  {
   "cell_type": "markdown",
   "id": "3be5082a",
   "metadata": {},
   "source": [
    "Same variance is given --> normal t-test is performed"
   ]
  },
  {
   "cell_type": "code",
   "execution_count": 62,
   "id": "81981e6d",
   "metadata": {},
   "outputs": [
    {
     "data": {
      "text/plain": [
       "Ttest_relResult(statistic=-0.670881385239266, pvalue=0.5161354818838517)"
      ]
     },
     "execution_count": 62,
     "metadata": {},
     "output_type": "execute_result"
    }
   ],
   "source": [
    "stats.ttest_rel(full, reduced)"
   ]
  },
  {
   "cell_type": "markdown",
   "id": "b7afc3c6",
   "metadata": {},
   "source": [
    "Since the pvalue is > 0.05 we have no reason to reject the H0 hypothesis"
   ]
  },
  {
   "cell_type": "code",
   "execution_count": null,
   "id": "c0ba7c4c",
   "metadata": {},
   "outputs": [],
   "source": []
  }
 ],
 "metadata": {
  "kernelspec": {
   "display_name": "Python 3 (ipykernel)",
   "language": "python",
   "name": "python3"
  },
  "language_info": {
   "codemirror_mode": {
    "name": "ipython",
    "version": 3
   },
   "file_extension": ".py",
   "mimetype": "text/x-python",
   "name": "python",
   "nbconvert_exporter": "python",
   "pygments_lexer": "ipython3",
   "version": "3.10.9"
  }
 },
 "nbformat": 4,
 "nbformat_minor": 5
}
